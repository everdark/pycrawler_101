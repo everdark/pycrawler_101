{
 "cells": [
  {
   "cell_type": "markdown",
   "metadata": {
    "slideshow": {
     "slide_type": "slide"
    }
   },
   "source": [
    "# Facebook Graph API<span style=\"color:blue\"> | Explorer</span>\n",
    "## 初探 臉書社群圖譜"
   ]
  },
  {
   "cell_type": "markdown",
   "metadata": {
    "slideshow": {
     "slide_type": "subslide"
    }
   },
   "source": [
    "[Facebook Graph API Explorer](https://developers.facebook.com/tools/explorer)\n",
    "+ you need a Facebook account that can login to get a valid **access token**\n",
    "+ Graph API's token is short-lived (expired in hours) and can be refreshed on the page"
   ]
  },
  {
   "cell_type": "markdown",
   "metadata": {
    "slideshow": {
     "slide_type": "subslide"
    }
   },
   "source": [
    "## components of the API\n",
    "<span style=\"font-size:30pt\">nodes | edges | fields</span>\n",
    "+ **nodes** - basically *objects* such as a User, a Photo, a Page, a Comment.\n",
    "+ **edges** - the *connections* between those \"things\", such as a Page's Photos, or a Photo's Comments\n",
    "+ **fields** - info about nodes, such as the birthday of a User, or the name of a Page"
   ]
  },
  {
   "cell_type": "markdown",
   "metadata": {
    "slideshow": {
     "slide_type": "subslide"
    }
   },
   "source": [
    "## basic syntax 基本查詢語法\n",
    "<span style=\"font-size:30pt;color:blue\">/&lt;node_id&gt;/&lt;edge_name&gt;?fields=f1,f2,...</span>\n",
    "+ a node can be a person, a photo, a page, ...\n",
    "    + different nodes have their corresponding fields\n",
    "+ the special `me` node resolves to current token owner\n",
    "\n",
    "example: \n",
    "\n",
    "<span style=\"font-size:20pt\">me/photos?fields=from</span>"
   ]
  },
  {
   "cell_type": "markdown",
   "metadata": {
    "slideshow": {
     "slide_type": "subslide"
    }
   },
   "source": [
    "## which field? 有哪些欄位？\n",
    "+ not all fields will be returned in an API call\n",
    "+ use <span style=\"font-size:20pt\">metadata=1</span> to extract all possible fields on a node\n",
    "    + example: **me?metadata=1**\n",
    "+ alternatively, use the interactive \"Search for a field\" GUI tool to the left panel on the api explorer"
   ]
  },
  {
   "cell_type": "markdown",
   "metadata": {
    "slideshow": {
     "slide_type": "-"
    }
   },
   "source": [
    "## nested query 多層查詢\n",
    "+ solution 1: \n",
    "    + `<node_id>?fields=f1{subf1,subf2,...},f2,...`\n",
    "    + example: **me?fields=photos{from,id}**\n",
    "+ solution 2: (recommended) \n",
    "    + `<node_id>?fields=f1.fields(subf1,subf2,...),f2,...`\n",
    "    + example: **me?fields=photos.fields(from,id)**\n",
    "+ no limit on the depth of nesting"
   ]
  },
  {
   "cell_type": "markdown",
   "metadata": {
    "slideshow": {
     "slide_type": "-"
    }
   },
   "source": [
    "## node or edge? 結點或連線？\n",
    "+ edge is the *population*, node is talking about *individual*\n",
    "+ *all* of my photos => edge (no id); *this* photo of mine => node (with id)\n",
    "+ fields are defined on nodes, not edges\n",
    "+ any difference?\n",
    "    + `me?fields=photos{from}`\n",
    "    + `me/photos?fields=from`"
   ]
  },
  {
   "cell_type": "markdown",
   "metadata": {
    "slideshow": {
     "slide_type": "-"
    }
   },
   "source": [
    "## modifier 查詢修飾語\n",
    "### limit 限制回傳數\n",
    "+ optionally, use method `.limit(n)` or `?limit=n` to restrict the number of objects returned\n",
    "    + on a field:\n",
    "        + `me?fields=photos.limit(10)`\n",
    "    + on an edge:\n",
    "        + `me/photos?limit=10`"
   ]
  },
  {
   "cell_type": "markdown",
   "metadata": {
    "slideshow": {
     "slide_type": "-"
    }
   },
   "source": [
    "### summary 計算總量\n",
    "+ fields (or edges) with multiple entities usually have a summary containing their counts\n",
    "    + on a field:\n",
    "        + `<photo_id>?fields=likes.summary(true)`\n",
    "    + on an edge:\n",
    "        + `<photo_id>/likes?summary=true`"
   ]
  },
  {
   "cell_type": "markdown",
   "metadata": {
    "slideshow": {
     "slide_type": "-"
    }
   },
   "source": [
    "## chaining 修飾語鏈結\n",
    "+ on a field:\n",
    "    + `<photo_id>?files=likes.limit(1).summary(true)`\n",
    "+ on an edge:\n",
    "    + `<photo_id>/likes?limit=1&summary=true`"
   ]
  },
  {
   "cell_type": "markdown",
   "metadata": {
    "slideshow": {
     "slide_type": "-"
    }
   },
   "source": [
    "## paging 分頁\n",
    "obviously, not all results are returned in one shut (by design)"
   ]
  },
  {
   "cell_type": "markdown",
   "metadata": {
    "slideshow": {
     "slide_type": "subslide"
    }
   },
   "source": [
    "## scenario: who likes my posts?\n",
    "## 揪竟，是誰在按我的文章讚？\n",
    "\n",
    "1. 從me結點出發\n",
    "+ 在me節點的文章有哪些？\n",
    "    + 以連結語法查詢：`me/posts`\n",
    "    + 或者以欄位語法查詢：`me?fields=posts`\n",
    "+ 一篇文章有哪些欄位？\n",
    "    + 先隨便挑一篇文章當作新查詢的起點，使用`?metadata=1`來觀察\n",
    "    + 按讚數是欄位還是連結？\n",
    "+ 使用since修飾語來做時間區間的限制\n",
    "    + [timestamp converter](http://www.epochconverter.com)\n",
    "+ 使用summary修飾語取得按讚的總數\n",
    "+ 參考答案：\n",
    "    + `me/posts?fields=likes.fields(name).summary(true)&since=1420070400&limit=100`"
   ]
  },
  {
   "cell_type": "markdown",
   "metadata": {
    "slideshow": {
     "slide_type": "subslide"
    }
   },
   "source": [
    "## other syntax 貼文, 留言, 與刪除"
   ]
  },
  {
   "cell_type": "code",
   "execution_count": null,
   "metadata": {
    "collapsed": true
   },
   "outputs": [],
   "source": []
  },
  {
   "cell_type": "markdown",
   "metadata": {
    "slideshow": {
     "slide_type": "slide"
    }
   },
   "source": [
    "# Facebook Graph API<span style=\"color:blue\"> | Programmatic</span>\n",
    "## 程式化圖譜爬蟲"
   ]
  },
  {
   "cell_type": "markdown",
   "metadata": {
    "slideshow": {
     "slide_type": "subslide"
    }
   },
   "source": [
    "## go beyond the API explorer...\n",
    "## 每一個查詢，其實都是一個HTTP request\n",
    "+ an API query is nothing more than a HTTP request\n",
    "    + with valid access_token\n",
    "    + and the returned data are always **json**\n",
    "+ use the **Get Code** button in the explorer and look for the **cURL** tab"
   ]
  },
  {
   "cell_type": "markdown",
   "metadata": {
    "slideshow": {
     "slide_type": "-"
    }
   },
   "source": [
    "<img src=\"img/getcode-button.png\">"
   ]
  },
  {
   "cell_type": "markdown",
   "metadata": {
    "slideshow": {
     "slide_type": "-"
    }
   },
   "source": [
    "```\n",
    "curl -i -X GET \\\n",
    " \"https://graph.facebook.com/v2.4/me?fields=context&access_token=CAACEdEose0cBAL34H6NiMZB3ZCnPaZBnShQoSY9GZCh81kDLbQZArxKGEPY981H7KfBUjG99jThga2OxQ7owu03IZCgoEcjMDmVSyeZAzos3JZBvWEzbRbfX0DZAl0Au2ybbbZCNZBOsZCYGmjKqCLyTHftwrnOerU07Pismb3QBxYommKEo7oGsWTIIREpbKu4VlHMJY7Q7ZBY00aAZDZD\"\n",
    "```"
   ]
  },
  {
   "cell_type": "markdown",
   "metadata": {
    "slideshow": {
     "slide_type": "subslide"
    }
   },
   "source": [
    "## get all metadata of the me node\n",
    "## 練習：撈回me節點的所有可用欄位名稱\n",
    "-------------------------------------------------"
   ]
  },
  {
   "cell_type": "markdown",
   "metadata": {},
   "source": [
    "### 步驟一：載入requests套件"
   ]
  },
  {
   "cell_type": "code",
   "execution_count": 42,
   "metadata": {
    "collapsed": false
   },
   "outputs": [],
   "source": [
    "import requests"
   ]
  },
  {
   "cell_type": "markdown",
   "metadata": {},
   "source": [
    "### 步驟二：觀察Explorer的查詢結果"
   ]
  },
  {
   "cell_type": "markdown",
   "metadata": {},
   "source": [
    "+ 查詢：`me?metadata=1`\n",
    "+ 用`Get Code`按鈕觀察cURL的程式碼（類似下面）\n",
    "\n",
    "```\n",
    "curl -i -X GET \\\n",
    " \"https://graph.facebook.com/v2.4/me?metadata=1&access_token=CAACEdEose0cBAJzoEpPQfyhYg1YCDauTpjUsPXPhryjrnDO0ZCkjNrw74dDraVZByB0wGCWXs5zZB21UkRf5ZCFss1lzTiPUNZBJCdrwgMvFTi2feej1FcE9vpfErOd6F1lykYlZA8vQc8CZAOQC98bQxnM0Ed7eZBVMjT41buHTHSZCGBkZCfl2EzbRiZCJpXcewpgrRDZAFStTDAZDZD\"\n",
    " ```"
   ]
  },
  {
   "cell_type": "markdown",
   "metadata": {},
   "source": [
    "### 步驟三：拼出API Call (HTTP request) 內容字串"
   ]
  },
  {
   "cell_type": "code",
   "execution_count": 44,
   "metadata": {
    "collapsed": true
   },
   "outputs": [],
   "source": [
    "# the target API url\n",
    "api_addr = \"https://graph.facebook.com/v2.4/me\"\n",
    "\n",
    "# a valid token\n",
    "token = \"CAACEdEose0cBAEZAjeBtClmJ0ZAtPDGs1iLav0QUPLofXFGLkCWZAUf0hNUZBQr8cnxOsAg8PGsjlcmglGilGTQgfweUOhboycjVr95itFlmskTPhBYBUBZCZAU1yiPuTDyyvdS7vEVrZAPDa1fSxZBMZA4eL8YvthC6Yk115ZARLufW5nEXI30tnUc3b43P47cu6kJWizviDulwZDZD\"\n",
    "\n",
    "# build the query string for the GET method\n",
    "qs = {\"metadata\": 1, \n",
    "      \"access_token\": token}\n"
   ]
  },
  {
   "cell_type": "markdown",
   "metadata": {},
   "source": [
    "### 步驟四：發出GET連線"
   ]
  },
  {
   "cell_type": "code",
   "execution_count": 45,
   "metadata": {
    "collapsed": false
   },
   "outputs": [],
   "source": [
    "r = requests.get(api_addr, params=qs)"
   ]
  },
  {
   "cell_type": "markdown",
   "metadata": {},
   "source": [
    "### 步驟五：確認連線結果"
   ]
  },
  {
   "cell_type": "code",
   "execution_count": 46,
   "metadata": {
    "collapsed": false
   },
   "outputs": [
    {
     "name": "stdout",
     "output_type": "stream",
     "text": [
      "<Response [200]>\n"
     ]
    },
    {
     "data": {
      "text/plain": [
       "'{\"name\":\"Yueh Hsuan Chung\",\"metadata\":{\"fields\":[{\"name\":\"id\",\"description\":\"The id of this person\\'s'"
      ]
     },
     "execution_count": 46,
     "metadata": {},
     "output_type": "execute_result"
    }
   ],
   "source": [
    "print r\n",
    "r.close()\n",
    "r.content[:100] # content too long, print only the first 100 char"
   ]
  },
  {
   "cell_type": "markdown",
   "metadata": {},
   "source": [
    "### 步驟六：解析結果"
   ]
  },
  {
   "cell_type": "code",
   "execution_count": 47,
   "metadata": {
    "collapsed": false
   },
   "outputs": [
    {
     "data": {
      "text/plain": [
       "[u'id', u'name', u'metadata']"
      ]
     },
     "execution_count": 47,
     "metadata": {},
     "output_type": "execute_result"
    }
   ],
   "source": [
    "# parse json string into dict\n",
    "meta = r.json()\n",
    "\n",
    "# check top-level keys in parsed results\n",
    "meta.keys()"
   ]
  },
  {
   "cell_type": "code",
   "execution_count": 48,
   "metadata": {
    "collapsed": false
   },
   "outputs": [
    {
     "data": {
      "text/plain": [
       "[u'connections', u'fields', u'type']"
      ]
     },
     "execution_count": 48,
     "metadata": {},
     "output_type": "execute_result"
    }
   ],
   "source": [
    "# show metadata dict\n",
    "meta[\"metadata\"].keys()"
   ]
  },
  {
   "cell_type": "code",
   "execution_count": 49,
   "metadata": {
    "collapsed": false
   },
   "outputs": [
    {
     "data": {
      "text/plain": [
       "[{u'description': u\"The id of this person's user account. This ID is unique to each app and cannot be used across different apps. [Our upgrade guide provides more information about app-specific IDs](/docs/apps/upgrading/#upgrading_v2_0_user_ids)\",\n",
       "  u'name': u'id',\n",
       "  u'type': u'numeric string'},\n",
       " {u'description': u\"The About Me section of this person's profile\",\n",
       "  u'name': u'about',\n",
       "  u'type': u'string'},\n",
       " {u'description': u'The age segment for this person expressed as a minimum and maximum age. For example, more than 18, less than 21.',\n",
       "  u'name': u'age_range',\n",
       "  u'type': u'agerange'}]"
      ]
     },
     "execution_count": 49,
     "metadata": {},
     "output_type": "execute_result"
    }
   ],
   "source": [
    "# inspect the value of fields in metadata\n",
    "meta[\"metadata\"][\"fields\"][:3] # a list of dict"
   ]
  },
  {
   "cell_type": "code",
   "execution_count": 50,
   "metadata": {
    "collapsed": false
   },
   "outputs": [
    {
     "name": "stdout",
     "output_type": "stream",
     "text": [
      "id\n",
      "about\n",
      "age_range\n",
      "bio\n",
      "birthday\n",
      "context\n",
      "currency\n",
      "devices\n",
      "education\n",
      "email\n",
      "favorite_athletes\n",
      "favorite_teams\n",
      "first_name\n",
      "gender\n",
      "hometown\n",
      "inspirational_people\n",
      "install_type\n",
      "installed\n",
      "interested_in\n",
      "is_shared_login\n",
      "is_verified\n",
      "languages\n",
      "last_name\n",
      "link\n",
      "location\n",
      "locale\n",
      "meeting_for\n",
      "middle_name\n",
      "name\n",
      "name_format\n",
      "payment_pricepoints\n",
      "test_group\n",
      "political\n",
      "relationship_status\n",
      "religion\n",
      "security_settings\n",
      "significant_other\n",
      "sports\n",
      "quotes\n",
      "third_party_id\n",
      "timezone\n",
      "token_for_business\n",
      "updated_time\n",
      "shared_login_upgrade_required_by\n",
      "verified\n",
      "video_upload_limits\n",
      "viewer_can_send_gift\n",
      "website\n",
      "work\n",
      "public_key\n",
      "cover\n"
     ]
    }
   ],
   "source": [
    "metafields = [ l[\"name\"] for l in meta[\"metadata\"][\"fields\"] ]\n",
    "for s in metafields:\n",
    "    print s"
   ]
  },
  {
   "cell_type": "markdown",
   "metadata": {
    "slideshow": {
     "slide_type": "subslide"
    }
   },
   "source": [
    "## traverse paginated json\n",
    "## 練習：一次撈回所有被分頁的內容\n",
    "-------------------------------------------\n",
    "以一篇文章的按讚者清單為例"
   ]
  },
  {
   "cell_type": "markdown",
   "metadata": {},
   "source": [
    "### 步驟一：觀察Explorer的查詢結果"
   ]
  },
  {
   "cell_type": "markdown",
   "metadata": {},
   "source": [
    "1. 隨編選一篇你的文章\n",
    "    + 可以用`me/posts`的查詢結果來挑！\n",
    "+ 查詢文章的按讚資訊\n",
    "    + solution 1: `/<post_id>/likes`\n",
    "    + solution 2: `/<post_id>?fieds=likes`\n",
    "+ 觀察重點：\n",
    "    + 如果該文章一個讚都沒有？\n",
    "    + 如果該文章的讚數不夠被分頁？\n",
    "    + 如果被分頁了？\n",
    "    + 分到最後一頁的時候長什麼樣？\n",
    "+ 用`Get Code`按鈕觀察cURL的程式碼（類似下面）\n",
    "\n",
    "```\n",
    "curl -i -X GET \\\n",
    " \"https://graph.facebook.com/v2.4/100000862115668_932029203502475/likes?access_token=CAACEdEose0cBAJzoEpPQfyhYg1YCDauTpjUsPXPhryjrnDO0ZCkjNrw74dDraVZByB0wGCWXs5zZB21UkRf5ZCFss1lzTiPUNZBJCdrwgMvFTi2feej1FcE9vpfErOd6F1lykYlZA8vQc8CZAOQC98bQxnM0Ed7eZBVMjT41buHTHSZCGBkZCfl2EzbRiZCJpXcewpgrRDZAFStTDAZDZD\" \n",
    " ```"
   ]
  },
  {
   "cell_type": "markdown",
   "metadata": {},
   "source": [
    "### 重要的觀察結果\n",
    "+ 如果該文章一個讚都沒有？\n",
    "    + 小技巧：運用`me/posts?fields=likes.limit(1).summary(true)`這個查詢來快速找出你沒有讚數的文章\n",
    "    + 結果：\n",
    "<img src=\"img/no-like.png\">\n",
    "+ 如果該文章的讚數不夠被分頁？\n",
    "    + 結果：\n",
    "<img src=\"img/little-likes.png\">\n",
    "+ 如果被分頁了？\n",
    "    + 結果：\n",
    "<img src=\"img/more-likes.png\">\n",
    "+ 分到最後一夜的時候長什麼樣？\n",
    "    + 結果：\n",
    "<img src=\"img/final-likes.png\">"
   ]
  },
  {
   "cell_type": "markdown",
   "metadata": {},
   "source": [
    "### 步驟二：根據觀察結果制定程式邏輯"
   ]
  },
  {
   "cell_type": "code",
   "execution_count": 54,
   "metadata": {
    "collapsed": false
   },
   "outputs": [],
   "source": [
    "def getAllLikes1(token, node):\n",
    "    result = []\n",
    "    api_addr = \"https://graph.facebook.com/v2.4/%s/likes\" % node\n",
    "    qs = {\"fields\": \"name\", \n",
    "          \"access_token\": token}\n",
    "    r = requests.get(api_addr, params=qs)\n",
    "    res = r.json()\n",
    "    if not len(res[\"data\"]):\n",
    "        return result\n",
    "    else:\n",
    "        result += res[\"data\"]\n",
    "        while \"next\" in res[\"paging\"]:\n",
    "            cursor_next = res[\"paging\"][\"cursors\"][\"after\"]\n",
    "            qs[\"after\"] = cursor_next\n",
    "            r = requests.get(api_addr, params=qs)\n",
    "            res = r.json()\n",
    "            result += res[\"data\"]\n",
    "        return result\n",
    "\n",
    "def getAllLikes2(token, node):\n",
    "    result = []\n",
    "    api_addr = \"https://graph.facebook.com/v2.4/%s/likes\" % node\n",
    "    qs = {\"fields\": \"name\", \n",
    "          \"access_token\": token}\n",
    "    r = requests.get(api_addr, params=qs)\n",
    "    res = r.json()\n",
    "    if not len(res[\"data\"]):\n",
    "        return result\n",
    "    else:\n",
    "        result += res[\"data\"]\n",
    "        while \"next\" in res[\"paging\"]:\n",
    "            next_query = res[\"paging\"][\"next\"]\n",
    "            r = requests.get(next_query)\n",
    "            res = r.json()\n",
    "            result += res[\"data\"]\n",
    "        return result"
   ]
  },
  {
   "cell_type": "code",
   "execution_count": 55,
   "metadata": {
    "collapsed": false
   },
   "outputs": [
    {
     "data": {
      "text/plain": [
       "True"
      ]
     },
     "execution_count": 55,
     "metadata": {},
     "output_type": "execute_result"
    }
   ],
   "source": [
    "token = \"CAACEdEose0cBAEZAjeBtClmJ0ZAtPDGs1iLav0QUPLofXFGLkCWZAUf0hNUZBQr8cnxOsAg8PGsjlcmglGilGTQgfweUOhboycjVr95itFlmskTPhBYBUBZCZAU1yiPuTDyyvdS7vEVrZAPDa1fSxZBMZA4eL8YvthC6Yk115ZARLufW5nEXI30tnUc3b43P47cu6kJWizviDulwZDZD\"\n",
    "node = \"100000862115668_932029203502475\"\n",
    "result1 = getAllLikes1(token=token, node=node)\n",
    "result2 = getAllLikes2(token=token, node=node)\n",
    "result1 == result2"
   ]
  },
  {
   "cell_type": "markdown",
   "metadata": {},
   "source": [
    "### 步驟三：驗收結果"
   ]
  },
  {
   "cell_type": "code",
   "execution_count": 56,
   "metadata": {
    "collapsed": false
   },
   "outputs": [
    {
     "data": {
      "text/plain": [
       "[{u'id': u'315371435293768', u'name': u'Tindy Cheng'},\n",
       " {u'id': u'969673423047100', u'name': u'ChunKuei Chu'},\n",
       " {u'id': u'756609997705112', u'name': u'\\u6797\\u744b\\u744b'},\n",
       " {u'id': u'852448504770317', u'name': u'Mark Yang'},\n",
       " {u'id': u'1487000218', u'name': u'\\u8607\\u4e2d\\u624d'},\n",
       " {u'id': u'1161704643846945', u'name': u'\\u9673\\u667a\\u6cd3'}]"
      ]
     },
     "execution_count": 56,
     "metadata": {},
     "output_type": "execute_result"
    }
   ],
   "source": [
    "# the result is a list of dict containing liked-users' id and name\n",
    "result1[:6]"
   ]
  },
  {
   "cell_type": "markdown",
   "metadata": {
    "slideshow": {
     "slide_type": "subslide"
    }
   },
   "source": [
    "## scenario: all about likes...\n",
    "## 出來吧～那些按我讚的人！"
   ]
  },
  {
   "cell_type": "markdown",
   "metadata": {},
   "source": [
    "#### spec:\n",
    "+ 給定一個使用者，一段時間：\n",
    "    + 畫出該使用者所有文章的被按讚數時間線圖\n",
    "    + 根據不同的按讚者畫出個別的按讚數時間線圖"
   ]
  },
  {
   "cell_type": "markdown",
   "metadata": {
    "slideshow": {
     "slide_type": "subslide"
    }
   },
   "source": [
    "### 步驟一：先用Explorer觀察想撈的資料模樣"
   ]
  },
  {
   "cell_type": "markdown",
   "metadata": {},
   "source": [
    "`me/posts?fields=created_time,likes.fields(id,name)&since=1420070400`"
   ]
  },
  {
   "cell_type": "markdown",
   "metadata": {},
   "source": [
    "### 步驟二：思考需要的功能"
   ]
  },
  {
   "cell_type": "code",
   "execution_count": null,
   "metadata": {
    "collapsed": false,
    "slideshow": {
     "slide_type": "-"
    }
   },
   "outputs": [],
   "source": [
    "# think about a blueprint of your crawler\n",
    "class likerCrawler:\n",
    "    # need a user id and a starting time\n",
    "    def __init__(self, user, since, token): \n",
    "        self.user = str(user)\n",
    "        self.since = str(since)\n",
    "        self.token = str(token)\n",
    "        \n",
    "    # need a helper to convert datetime string to timestamp\n",
    "    def str2Timestamp(): pass\n",
    "    \n",
    "    # need a function to crawl all post id in a given time\n",
    "    def getPostId(): pass\n",
    "    \n",
    "    # need a function to crawl all like info given a post id\n",
    "    def getLikes(): pass"
   ]
  },
  {
   "cell_type": "markdown",
   "metadata": {},
   "source": [
    "### 步驟三：根據觀察結果，實作需要的功能"
   ]
  },
  {
   "cell_type": "code",
   "execution_count": 57,
   "metadata": {
    "collapsed": false
   },
   "outputs": [],
   "source": [
    "import requests\n",
    "import datetime, time\n",
    "\n",
    "class likerCrawler:\n",
    "    \"\"\"a FB Graph API crawler to get all like info associated with posts since a given time\"\"\"\n",
    "    def __init__(self, user, since, token, tfmt=\"%Y-%m-%d\"): \n",
    "        self.user = str(user)\n",
    "        self.since = str(since)\n",
    "        self.token = str(token)\n",
    "        self.tfmt = str(tfmt)\n",
    "        \n",
    "    def getTimestamp(self):\n",
    "        \"\"\"convert datetime string to UNIX timestamp\"\"\"\n",
    "        return int(time.mktime(datetime.datetime.strptime(self.since, self.tfmt).timetuple()))\n",
    "        \n",
    "    def getPostIdwithTimestamp(self): \n",
    "        \"\"\"given user_id and start time, return a list of {post_id, time}\"\"\"\n",
    "        posts = []\n",
    "        api_addr = \"https://graph.facebook.com/v2.4/%s/posts\" % self.user\n",
    "        qs = {\"since\": self.getTimestamp(), \"access_token\": self.token}\n",
    "        res = requests.get(api_addr, params=qs).json()\n",
    "        if not len(res[\"data\"]):\n",
    "            return None\n",
    "        else: \n",
    "            posts += [ {\"id\": d[\"id\"], \"ts\": d[\"created_time\"]} for d in res[\"data\"] ]\n",
    "            while \"paging\" in res and next in res[\"paging\"]:\n",
    "                res = requests.get(res[\"paging\"][\"next\"]).json()\n",
    "                post_ids += [ {\"id\": d[\"id\"], \"ts\": d[\"created_time\"]} for d in res[\"data\"] ]\n",
    "            return posts\n",
    "\n",
    "    def getLikesPerPost(self, post_id):\n",
    "        \"\"\"given a post id, return all user id/name liked it with timestamp\"\"\"\n",
    "        like_users = []\n",
    "        api_addr = \"https://graph.facebook.com/v2.4/%s\" % post_id\n",
    "        qs = {\"fields\": \"likes.fields(name),created_time\", \"access_token\": self.token}\n",
    "        res = requests.get(api_addr, params=qs).json()\n",
    "        if \"likes\" not in res:\n",
    "            return None\n",
    "        else:\n",
    "            ts = res[\"created_time\"]\n",
    "            like_users += res[\"likes\"][\"data\"]\n",
    "            while \"paging\" in res and \"next\" in res[\"paging\"]:\n",
    "                res = requests.get(next).json()\n",
    "                like_users += res[\"data\"]\n",
    "            return ts, like_users\n",
    "        \n",
    "    def getAllLikes(self):\n",
    "        all_likes = [ self.getLikesPerPost(d) for d in self.all_posts ]\n",
    "        return [ l for l in all_likes if l is not None]\n",
    "    \n",
    "    @property\n",
    "    def all_posts(self):\n",
    "        return [ m[\"id\"] for m in self.getPostIdwithTimestamp() ]"
   ]
  },
  {
   "cell_type": "markdown",
   "metadata": {},
   "source": [
    "### 步驟四：驗收結果"
   ]
  },
  {
   "cell_type": "code",
   "execution_count": 58,
   "metadata": {
    "collapsed": false
   },
   "outputs": [],
   "source": [
    "mycrawler = likerCrawler(user=\"me\",\n",
    "                         since=\"2014-01-01\",\n",
    "                         token=\"CAACEdEose0cBAEZAjeBtClmJ0ZAtPDGs1iLav0QUPLofXFGLkCWZAUf0hNUZBQr8cnxOsAg8PGsjlcmglGilGTQgfweUOhboycjVr95itFlmskTPhBYBUBZCZAU1yiPuTDyyvdS7vEVrZAPDa1fSxZBMZA4eL8YvthC6Yk115ZARLufW5nEXI30tnUc3b43P47cu6kJWizviDulwZDZD\")"
   ]
  },
  {
   "cell_type": "code",
   "execution_count": 59,
   "metadata": {
    "collapsed": false
   },
   "outputs": [
    {
     "data": {
      "text/plain": [
       "1388505600"
      ]
     },
     "execution_count": 59,
     "metadata": {},
     "output_type": "execute_result"
    }
   ],
   "source": [
    "# return all post ids\n",
    "mycrawler.getTimestamp()"
   ]
  },
  {
   "cell_type": "code",
   "execution_count": 60,
   "metadata": {
    "collapsed": false
   },
   "outputs": [
    {
     "data": {
      "text/plain": [
       "[{'id': u'100000862115668_932029203502475', 'ts': u'2015-04-19T21:12:21+0000'},\n",
       " {'id': u'100000862115668_930976326941096', 'ts': u'2015-04-18T03:50:24+0000'},\n",
       " {'id': u'100000862115668_930036487035080', 'ts': u'2015-04-17T04:59:26+0000'},\n",
       " {'id': u'100000862115668_929925230379539', 'ts': u'2015-04-16T04:26:26+0000'},\n",
       " {'id': u'100000862115668_929794627059266', 'ts': u'2015-04-15T20:29:36+0000'},\n",
       " {'id': u'100000862115668_929511450420917', 'ts': u'2015-04-15T05:25:38+0000'}]"
      ]
     },
     "execution_count": 60,
     "metadata": {},
     "output_type": "execute_result"
    }
   ],
   "source": [
    "# return all post ids with timestamp\n",
    "mycrawler.getPostIdwithTimestamp()[:6]"
   ]
  },
  {
   "cell_type": "code",
   "execution_count": 61,
   "metadata": {
    "collapsed": false
   },
   "outputs": [
    {
     "data": {
      "text/plain": [
       "[u'100000862115668_932029203502475',\n",
       " u'100000862115668_930976326941096',\n",
       " u'100000862115668_930036487035080',\n",
       " u'100000862115668_929925230379539',\n",
       " u'100000862115668_929794627059266',\n",
       " u'100000862115668_929511450420917']"
      ]
     },
     "execution_count": 61,
     "metadata": {},
     "output_type": "execute_result"
    }
   ],
   "source": [
    "# return all post ids only\n",
    "mycrawler.all_posts[:6]"
   ]
  },
  {
   "cell_type": "code",
   "execution_count": 62,
   "metadata": {
    "collapsed": false
   },
   "outputs": [
    {
     "data": {
      "text/plain": [
       "(u'2015-04-19T21:12:21+0000',\n",
       " [{u'id': u'315371435293768', u'name': u'Tindy Cheng'},\n",
       "  {u'id': u'969673423047100', u'name': u'ChunKuei Chu'},\n",
       "  {u'id': u'756609997705112', u'name': u'\\u6797\\u744b\\u744b'},\n",
       "  {u'id': u'852448504770317', u'name': u'Mark Yang'},\n",
       "  {u'id': u'1487000218', u'name': u'\\u8607\\u4e2d\\u624d'},\n",
       "  {u'id': u'1161704643846945', u'name': u'\\u9673\\u667a\\u6cd3'},\n",
       "  {u'id': u'10204030571792411', u'name': u'Mansun Kuo'},\n",
       "  {u'id': u'10152783776360960', u'name': u'Jim Pai'},\n",
       "  {u'id': u'748835111857876', u'name': u'Yi LinWei'},\n",
       "  {u'id': u'788499557828349', u'name': u'Wush Wu'},\n",
       "  {u'id': u'10200724712359727', u'name': u'Cedar Su'},\n",
       "  {u'id': u'10202285354957426', u'name': u'\\u67ef\\u9d3b\\u5100'},\n",
       "  {u'id': u'878903608788910', u'name': u'\\u9b4f\\u5ef7\\u65ed'},\n",
       "  {u'id': u'1182843781729426', u'name': u'\\u6d2a \\u5fd7\\u6587'},\n",
       "  {u'id': u'912921898725737', u'name': u'\\u77f3\\u5c0f\\u77f3'},\n",
       "  {u'id': u'10153331968758409', u'name': u'Yencheng Chen'},\n",
       "  {u'id': u'10152159007283224', u'name': u'\\u6797\\u76df\\u5091'},\n",
       "  {u'id': u'830239116990181', u'name': u'Han-Wei Wendy Lin'},\n",
       "  {u'id': u'10203196401577752', u'name': u'Teresa Tc'},\n",
       "  {u'id': u'10201864190525667', u'name': u'Yao-Tsung Yang'},\n",
       "  {u'id': u'961707153842993', u'name': u'Meng-Yeh Chuang'},\n",
       "  {u'id': u'877391482280299', u'name': u'Leon Zhang'},\n",
       "  {u'id': u'541969934240', u'name': u'Shao-Chuan Yang'},\n",
       "  {u'id': u'609958632422912', u'name': u'Ikki Oda'},\n",
       "  {u'id': u'10152385217924728', u'name': u'Yuan-Ping Wu'}])"
      ]
     },
     "execution_count": 62,
     "metadata": {},
     "output_type": "execute_result"
    }
   ],
   "source": [
    "# get all likers given a post_id\n",
    "mycrawler.getLikesPerPost(\"100000862115668_932029203502475\")"
   ]
  },
  {
   "cell_type": "code",
   "execution_count": 19,
   "metadata": {
    "collapsed": false
   },
   "outputs": [
    {
     "data": {
      "text/plain": [
       "[(u'2015-04-19T21:12:21+0000',\n",
       "  [{u'id': u'315371435293768', u'name': u'Tindy Cheng'},\n",
       "   {u'id': u'969673423047100', u'name': u'ChunKuei Chu'},\n",
       "   {u'id': u'756609997705112', u'name': u'\\u6797\\u744b\\u744b'},\n",
       "   {u'id': u'852448504770317', u'name': u'Mark Yang'},\n",
       "   {u'id': u'1487000218', u'name': u'\\u8607\\u4e2d\\u624d'},\n",
       "   {u'id': u'1161704643846945', u'name': u'\\u9673\\u667a\\u6cd3'},\n",
       "   {u'id': u'10204030571792411', u'name': u'Mansun Kuo'},\n",
       "   {u'id': u'10152783776360960', u'name': u'Jim Pai'},\n",
       "   {u'id': u'748835111857876', u'name': u'Yi LinWei'},\n",
       "   {u'id': u'788499557828349', u'name': u'Wush Wu'},\n",
       "   {u'id': u'10200724712359727', u'name': u'Cedar Su'},\n",
       "   {u'id': u'10202285354957426', u'name': u'\\u67ef\\u9d3b\\u5100'},\n",
       "   {u'id': u'878903608788910', u'name': u'\\u9b4f\\u5ef7\\u65ed'},\n",
       "   {u'id': u'1182843781729426', u'name': u'\\u6d2a \\u5fd7\\u6587'},\n",
       "   {u'id': u'912921898725737', u'name': u'\\u77f3\\u5c0f\\u77f3'},\n",
       "   {u'id': u'10153331968758409', u'name': u'Yencheng Chen'},\n",
       "   {u'id': u'10152159007283224', u'name': u'\\u6797\\u76df\\u5091'},\n",
       "   {u'id': u'830239116990181', u'name': u'Han-Wei Wendy Lin'},\n",
       "   {u'id': u'10203196401577752', u'name': u'Teresa Tc'},\n",
       "   {u'id': u'10201864190525667', u'name': u'Yao-Tsung Yang'},\n",
       "   {u'id': u'961707153842993', u'name': u'Meng-Yeh Chuang'},\n",
       "   {u'id': u'877391482280299', u'name': u'Leon Zhang'},\n",
       "   {u'id': u'541969934240', u'name': u'Shao-Chuan Yang'},\n",
       "   {u'id': u'609958632422912', u'name': u'Ikki Oda'},\n",
       "   {u'id': u'10152385217924728', u'name': u'Yuan-Ping Wu'}]),\n",
       " (u'2015-04-17T23:06:21+0000',\n",
       "  [{u'id': u'769927709723228', u'name': u'\\u65b9\\u5efa\\u667a'},\n",
       "   {u'id': u'924054170938791', u'name': u'\\u9b6f\\u8b19'},\n",
       "   {u'id': u'10200724712359727', u'name': u'Cedar Su'},\n",
       "   {u'id': u'877391482280299', u'name': u'Leon Zhang'},\n",
       "   {u'id': u'748835111857876', u'name': u'Yi LinWei'},\n",
       "   {u'id': u'10152385217924728', u'name': u'Yuan-Ping Wu'},\n",
       "   {u'id': u'969673423047100', u'name': u'ChunKuei Chu'},\n",
       "   {u'id': u'100000153076447', u'name': u'Julie Woo'},\n",
       "   {u'id': u'858228977536894', u'name': u'Chun WU'},\n",
       "   {u'id': u'10203196401577752', u'name': u'Teresa Tc'},\n",
       "   {u'id': u'10152159007283224', u'name': u'\\u6797\\u76df\\u5091'}])]"
      ]
     },
     "execution_count": 19,
     "metadata": {},
     "output_type": "execute_result"
    }
   ],
   "source": [
    "all_likes = mycrawler.getAllLikes()\n",
    "all_likes[:2]"
   ]
  },
  {
   "cell_type": "markdown",
   "metadata": {},
   "source": [
    "### 進階：平行化加速程式"
   ]
  },
  {
   "cell_type": "code",
   "execution_count": 63,
   "metadata": {
    "collapsed": false
   },
   "outputs": [
    {
     "data": {
      "text/plain": [
       "True"
      ]
     },
     "execution_count": 63,
     "metadata": {},
     "output_type": "execute_result"
    }
   ],
   "source": [
    "# speedup by parallelling\n",
    "# issue: instance method not able to be pickled, the following is one work-around\n",
    "\n",
    "from multiprocessing import Pool\n",
    "from functools import partial\n",
    "\n",
    "def _getLikesPerPost(obj, arg):\n",
    "    return obj.getLikesPerPost(arg)\n",
    "\n",
    "_bound_getLikesPerPost = partial(_getLikesPerPost, mycrawler)\n",
    "p = Pool() # this must go after function definition\n",
    "par_res = p.map(_bound_getLikesPerPost, mycrawler.all_posts)\n",
    "all_likes2 = [ l for l in par_res if l is not None ]\n",
    "\n",
    "# check equivalence\n",
    "all_likes == all_likes2"
   ]
  },
  {
   "cell_type": "code",
   "execution_count": 64,
   "metadata": {
    "collapsed": false
   },
   "outputs": [
    {
     "name": "stdout",
     "output_type": "stream",
     "text": [
      "CPU times: user 603 ms, sys: 46.8 ms, total: 650 ms\n",
      "Wall time: 5.72 s\n"
     ]
    }
   ],
   "source": [
    "%time all_likes = mycrawler.getAllLikes()"
   ]
  },
  {
   "cell_type": "code",
   "execution_count": 65,
   "metadata": {
    "collapsed": false
   },
   "outputs": [
    {
     "name": "stdout",
     "output_type": "stream",
     "text": [
      "CPU times: user 31.3 ms, sys: 3.55 ms, total: 34.8 ms\n",
      "Wall time: 2.12 s\n"
     ]
    }
   ],
   "source": [
    "%time all_likes2 = [ l for l in p.map(_bound_getLikesPerPost, mycrawler.all_posts) if l is not None ]"
   ]
  },
  {
   "cell_type": "markdown",
   "metadata": {},
   "source": [
    "### 步驟五：作圖前資料整理"
   ]
  },
  {
   "cell_type": "code",
   "execution_count": 66,
   "metadata": {
    "collapsed": false
   },
   "outputs": [],
   "source": [
    "# tidy likers into list of (time, name)\n",
    "def decoratebyTimeUnit(by):\n",
    "    def byTimeUnit(dtstr):\n",
    "        # %z not support in python...\n",
    "        dt = datetime.datetime.strptime(dtstr, \"%Y-%m-%dT%H:%M:%S+0000\")\n",
    "        if by == \"date\":\n",
    "            return dt.date()\n",
    "        elif by == \"month\":\n",
    "            return dt.replace(day=1, hour=0, minute=0, second=0).date()\n",
    "        else:\n",
    "            raise ValueError(\"Unknown by value\")\n",
    "    def real_decorator(func):\n",
    "        def wrapper(likes):\n",
    "            return [ (byTimeUnit(like[0]), like[1]) for like in func(likes) ]\n",
    "        return wrapper\n",
    "    return real_decorator\n",
    "        \n",
    "@decoratebyTimeUnit(\"month\")\n",
    "def countByTime(likes):\n",
    "    res = []\n",
    "    for t in likes:\n",
    "        for m in t[1]:\n",
    "            res.append((t[0], m[\"name\"]))\n",
    "    return res"
   ]
  },
  {
   "cell_type": "code",
   "execution_count": 67,
   "metadata": {
    "collapsed": false
   },
   "outputs": [
    {
     "data": {
      "text/plain": [
       "[(datetime.date(2015, 4, 1), u'Tindy Cheng'),\n",
       " (datetime.date(2015, 4, 1), u'ChunKuei Chu'),\n",
       " (datetime.date(2015, 4, 1), u'\\u6797\\u744b\\u744b'),\n",
       " (datetime.date(2015, 4, 1), u'Mark Yang'),\n",
       " (datetime.date(2015, 4, 1), u'\\u8607\\u4e2d\\u624d'),\n",
       " (datetime.date(2015, 4, 1), u'\\u9673\\u667a\\u6cd3'),\n",
       " (datetime.date(2015, 4, 1), u'Mansun Kuo'),\n",
       " (datetime.date(2015, 4, 1), u'Jim Pai'),\n",
       " (datetime.date(2015, 4, 1), u'Yi LinWei'),\n",
       " (datetime.date(2015, 4, 1), u'Wush Wu')]"
      ]
     },
     "execution_count": 67,
     "metadata": {},
     "output_type": "execute_result"
    }
   ],
   "source": [
    "likes = countByTime(all_likes)\n",
    "likes[:10]"
   ]
  },
  {
   "cell_type": "code",
   "execution_count": 68,
   "metadata": {
    "collapsed": false
   },
   "outputs": [
    {
     "data": {
      "text/html": [
       "<div>\n",
       "<table border=\"1\" class=\"dataframe\">\n",
       "  <thead>\n",
       "    <tr style=\"text-align: right;\">\n",
       "      <th></th>\n",
       "      <th>time</th>\n",
       "      <th>count</th>\n",
       "    </tr>\n",
       "  </thead>\n",
       "  <tbody>\n",
       "    <tr>\n",
       "      <th>2</th>\n",
       "      <td>2014-10-01</td>\n",
       "      <td>25</td>\n",
       "    </tr>\n",
       "    <tr>\n",
       "      <th>0</th>\n",
       "      <td>2014-11-01</td>\n",
       "      <td>23</td>\n",
       "    </tr>\n",
       "    <tr>\n",
       "      <th>1</th>\n",
       "      <td>2014-12-01</td>\n",
       "      <td>6</td>\n",
       "    </tr>\n",
       "    <tr>\n",
       "      <th>6</th>\n",
       "      <td>2015-01-01</td>\n",
       "      <td>1</td>\n",
       "    </tr>\n",
       "    <tr>\n",
       "      <th>4</th>\n",
       "      <td>2015-02-01</td>\n",
       "      <td>81</td>\n",
       "    </tr>\n",
       "    <tr>\n",
       "      <th>5</th>\n",
       "      <td>2015-03-01</td>\n",
       "      <td>5</td>\n",
       "    </tr>\n",
       "    <tr>\n",
       "      <th>3</th>\n",
       "      <td>2015-04-01</td>\n",
       "      <td>75</td>\n",
       "    </tr>\n",
       "  </tbody>\n",
       "</table>\n",
       "</div>"
      ],
      "text/plain": [
       "         time  count\n",
       "2  2014-10-01     25\n",
       "0  2014-11-01     23\n",
       "1  2014-12-01      6\n",
       "6  2015-01-01      1\n",
       "4  2015-02-01     81\n",
       "5  2015-03-01      5\n",
       "3  2015-04-01     75"
      ]
     },
     "execution_count": 68,
     "metadata": {},
     "output_type": "execute_result"
    }
   ],
   "source": [
    "from collections import Counter\n",
    "import pandas as pd\n",
    "\n",
    "# group by time only\n",
    "monthly_like_counts = Counter([ t[0] for t in likes ])\n",
    "df = pd.DataFrame(monthly_like_counts.items())\n",
    "df.columns = [\"time\", \"count\"]\n",
    "df = df.sort(\"time\")\n",
    "df"
   ]
  },
  {
   "cell_type": "code",
   "execution_count": 69,
   "metadata": {
    "collapsed": false
   },
   "outputs": [
    {
     "data": {
      "text/html": [
       "<div>\n",
       "<table border=\"1\" class=\"dataframe\">\n",
       "  <thead>\n",
       "    <tr style=\"text-align: right;\">\n",
       "      <th></th>\n",
       "      <th>time</th>\n",
       "      <th>liker</th>\n",
       "      <th>count</th>\n",
       "    </tr>\n",
       "  </thead>\n",
       "  <tbody>\n",
       "    <tr>\n",
       "      <th>38</th>\n",
       "      <td>2014-12-01</td>\n",
       "      <td>Allen Lai</td>\n",
       "      <td>1</td>\n",
       "    </tr>\n",
       "    <tr>\n",
       "      <th>109</th>\n",
       "      <td>2015-02-01</td>\n",
       "      <td>Alphas Hwang</td>\n",
       "      <td>1</td>\n",
       "    </tr>\n",
       "    <tr>\n",
       "      <th>113</th>\n",
       "      <td>2015-04-01</td>\n",
       "      <td>Ande Teng</td>\n",
       "      <td>1</td>\n",
       "    </tr>\n",
       "    <tr>\n",
       "      <th>141</th>\n",
       "      <td>2014-12-01</td>\n",
       "      <td>Arvin Huang</td>\n",
       "      <td>1</td>\n",
       "    </tr>\n",
       "    <tr>\n",
       "      <th>98</th>\n",
       "      <td>2015-02-01</td>\n",
       "      <td>Bernie Chen</td>\n",
       "      <td>1</td>\n",
       "    </tr>\n",
       "    <tr>\n",
       "      <th>133</th>\n",
       "      <td>2015-02-01</td>\n",
       "      <td>Cedar Su</td>\n",
       "      <td>2</td>\n",
       "    </tr>\n",
       "  </tbody>\n",
       "</table>\n",
       "</div>"
      ],
      "text/plain": [
       "           time         liker  count\n",
       "38   2014-12-01     Allen Lai      1\n",
       "109  2015-02-01  Alphas Hwang      1\n",
       "113  2015-04-01     Ande Teng      1\n",
       "141  2014-12-01   Arvin Huang      1\n",
       "98   2015-02-01   Bernie Chen      1\n",
       "133  2015-02-01      Cedar Su      2"
      ]
     },
     "execution_count": 69,
     "metadata": {},
     "output_type": "execute_result"
    }
   ],
   "source": [
    "# group by time by liker\n",
    "monthly_like_counts_by_liker = [ (t[0][0], t[0][1], t[1]) for t in Counter(likes).items() ]\n",
    "df2 = pd.DataFrame(monthly_like_counts_by_liker)\n",
    "df2.columns = [\"time\", \"liker\", \"count\"]\n",
    "df2 = df2.sort([\"liker\", \"time\"])\n",
    "df2[:6]"
   ]
  },
  {
   "cell_type": "code",
   "execution_count": 70,
   "metadata": {
    "collapsed": false
   },
   "outputs": [
    {
     "data": {
      "text/html": [
       "<div>\n",
       "<table border=\"1\" class=\"dataframe\">\n",
       "  <thead>\n",
       "    <tr style=\"text-align: right;\">\n",
       "      <th></th>\n",
       "      <th>count</th>\n",
       "    </tr>\n",
       "    <tr>\n",
       "      <th>liker</th>\n",
       "      <th></th>\n",
       "    </tr>\n",
       "  </thead>\n",
       "  <tbody>\n",
       "    <tr>\n",
       "      <th>Allen Lai</th>\n",
       "      <td>1</td>\n",
       "    </tr>\n",
       "    <tr>\n",
       "      <th>Alphas Hwang</th>\n",
       "      <td>1</td>\n",
       "    </tr>\n",
       "    <tr>\n",
       "      <th>Ande Teng</th>\n",
       "      <td>1</td>\n",
       "    </tr>\n",
       "    <tr>\n",
       "      <th>Arvin Huang</th>\n",
       "      <td>1</td>\n",
       "    </tr>\n",
       "    <tr>\n",
       "      <th>Bernie Chen</th>\n",
       "      <td>1</td>\n",
       "    </tr>\n",
       "    <tr>\n",
       "      <th>Cedar Su</th>\n",
       "      <td>4</td>\n",
       "    </tr>\n",
       "  </tbody>\n",
       "</table>\n",
       "</div>"
      ],
      "text/plain": [
       "              count\n",
       "liker              \n",
       "Allen Lai         1\n",
       "Alphas Hwang      1\n",
       "Ande Teng         1\n",
       "Arvin Huang       1\n",
       "Bernie Chen       1\n",
       "Cedar Su          4"
      ]
     },
     "execution_count": 70,
     "metadata": {},
     "output_type": "execute_result"
    }
   ],
   "source": [
    "# get top 10 likers\n",
    "df2_count_by_liker = df2.groupby(\"liker\").sum()\n",
    "df2_count_by_liker[:6]"
   ]
  },
  {
   "cell_type": "code",
   "execution_count": 71,
   "metadata": {
    "collapsed": false
   },
   "outputs": [
    {
     "data": {
      "text/plain": [
       "[u'Teresa Tc',\n",
       " u'Yi LinWei',\n",
       " u'\\u6797\\u76df\\u5091',\n",
       " u'Leon Zhang',\n",
       " u'Yuan-Ping Wu']"
      ]
     },
     "execution_count": 71,
     "metadata": {},
     "output_type": "execute_result"
    }
   ],
   "source": [
    "top_likers = list(df2_count_by_liker.sort(\"count\", ascending=0).index[:5])\n",
    "top_likers"
   ]
  },
  {
   "cell_type": "code",
   "execution_count": 72,
   "metadata": {
    "collapsed": false
   },
   "outputs": [],
   "source": [
    "# keep only top 5 likers' data\n",
    "df2_filtered = df2[df2[\"liker\"].isin(top_likers)]"
   ]
  },
  {
   "cell_type": "markdown",
   "metadata": {},
   "source": [
    "### 步驟六：作圖"
   ]
  },
  {
   "cell_type": "code",
   "execution_count": 73,
   "metadata": {
    "collapsed": false
   },
   "outputs": [],
   "source": [
    "# to plot in ipython notebook\n",
    "%matplotlib inline\n",
    "import matplotlib\n",
    "import matplotlib.pyplot as plt"
   ]
  },
  {
   "cell_type": "code",
   "execution_count": 74,
   "metadata": {
    "collapsed": false
   },
   "outputs": [
    {
     "data": {
      "text/plain": [
       "<matplotlib.axes._subplots.AxesSubplot at 0x10650ced0>"
      ]
     },
     "execution_count": 74,
     "metadata": {},
     "output_type": "execute_result"
    },
    {
     "data": {
      "image/png": "[encoded data removed]",
      "text/plain": [
       "<matplotlib.figure.Figure at 0x106376950>"
      ]
     },
     "metadata": {},
     "output_type": "display_data"
    }
   ],
   "source": [
    "# plot like counts by time\n",
    "df.plot(x=\"time\", y=\"count\", marker='o', figsize=(10,5))"
   ]
  },
  {
   "cell_type": "markdown",
   "metadata": {},
   "source": [
    "### 處理中文字顯示問題\n",
    "`matplotlib`預設可能不認中文字型，需要特別指定給他。"
   ]
  },
  {
   "cell_type": "code",
   "execution_count": 75,
   "metadata": {
    "collapsed": false
   },
   "outputs": [
    {
     "data": {
      "image/png": "[encoded data removed]",
      "text/plain": [
       "<matplotlib.figure.Figure at 0x1081e7c10>"
      ]
     },
     "metadata": {},
     "output_type": "display_data"
    }
   ],
   "source": [
    "# run the following code to show all available Chinese font family on your computer\n",
    "from matplotlib.font_manager import fontManager \n",
    "import os \n",
    " \n",
    "fig = plt.figure(figsize=(12,8)) \n",
    "ax = fig.add_subplot(111) \n",
    "plt.subplots_adjust(0, 0, 1, 1, 0, 0) \n",
    "plt.xticks([]) \n",
    "plt.yticks([]) \n",
    "x, y = 0.05, 0.18 \n",
    "fonts = [font.name for font in fontManager.ttflist if \n",
    "    os.path.exists(font.fname) and os.stat(font.fname).st_size>1e6] \n",
    "font = set(fonts) \n",
    "dy = (1.0-y)/(len(fonts)/4 + (len(fonts)%4!=0)) \n",
    "for font in fonts: \n",
    "    t = ax.text(x, y, u\"中文字體\", {'fontname':font, 'fontsize':14}, transform=ax.transAxes) \n",
    "    ax.text(x, y-dy/2, font, transform=ax.transAxes) \n",
    "    x += 0.25 \n",
    "    if x >= 1.0: \n",
    "        y += dy \n",
    "        x = 0.05 \n",
    "# plt.show() # not necessary in ipython notebook"
   ]
  },
  {
   "cell_type": "code",
   "execution_count": 76,
   "metadata": {
    "collapsed": false,
    "scrolled": false
   },
   "outputs": [
    {
     "data": {
      "text/plain": [
       "<matplotlib.legend.Legend at 0x1081afc50>"
      ]
     },
     "execution_count": 76,
     "metadata": {},
     "output_type": "execute_result"
    },
    {
     "data": {
      "image/png": "[encoded data removed]",
      "text/plain": [
       "<matplotlib.figure.Figure at 0x106b19f50>"
      ]
     },
     "metadata": {},
     "output_type": "display_data"
    }
   ],
   "source": [
    "# plot like counts by time by top likers\n",
    "matplotlib.rc(\"font\", family=\"AppleGothic\") # set any Chinese font family\n",
    "fig, ax = plt.subplots(1,1)\n",
    "p = df2_filtered.groupby(\"liker\").plot(x=\"time\", y=\"count\", marker='x', ax=ax, figsize=(10,5))\n",
    "plt.legend(list(p.axes[0].get_values()), loc=\"best\")"
   ]
  },
  {
   "cell_type": "markdown",
   "metadata": {
    "slideshow": {
     "slide_type": "subslide"
    }
   },
   "source": [
    "## programmatically get the token?\n",
    "not covered in this course..."
   ]
  },
  {
   "cell_type": "markdown",
   "metadata": {
    "slideshow": {
     "slide_type": "slide"
    }
   },
   "source": [
    "# Regular Expression\n",
    "## 正規表達式"
   ]
  },
  {
   "cell_type": "markdown",
   "metadata": {
    "slideshow": {
     "slide_type": "subslide"
    }
   },
   "source": [
    "### what is re?\n",
    "from wikipedia:\n",
    "> a regular expression (abbreviated regex or regexp and sometimes called a rational expression) is a sequence of characters that define a search pattern, mainly for use in pattern matching with strings, or string matching, i.e. \"find and replace\"-like operations."
   ]
  },
  {
   "cell_type": "markdown",
   "metadata": {
    "slideshow": {
     "slide_type": "subslide"
    }
   },
   "source": [
    "### why re?\n",
    "imagine there is a dataset looks like this...\n",
    "> kyle chung; (02)2256-1116; New Taipei City \n",
    "<br>\n",
    "Mr. Funghi,Earth Anywhere, 07-21180293\n",
    "<br>\n",
    "free tel: 0800 000 123 #1234\n",
    "<br>\n",
    "2945 1412  street no.123  Dr.A(not Dr.B)\n",
    "\n",
    "YOUR BOSS: \"Give me all the telphone numbers only.\" "
   ]
  },
  {
   "cell_type": "code",
   "execution_count": 7,
   "metadata": {
    "collapsed": false,
    "slideshow": {
     "slide_type": "subslide"
    }
   },
   "outputs": [],
   "source": [
    "import re\n",
    "\n",
    "test_str = [\"kyle chung; (02)2256-1116; New Taipei City\",\n",
    "            \"Mr. Funghi,Earth Anywhere, 07-21180293\",\n",
    "            \"free tel: 0800 000 123 #1234\",\n",
    "            \"Dr.A (not Dr.B) street no.123 2945 1412\"]\n",
    "\n",
    "def giveMeTel(pattern, test_str=test_str):\n",
    "    p = re.compile(pattern)\n",
    "    for s in test_str:\n",
    "        m = p.search(s)\n",
    "        if m:\n",
    "            print m.group()\n"
   ]
  },
  {
   "cell_type": "code",
   "execution_count": 8,
   "metadata": {
    "collapsed": false
   },
   "outputs": [
    {
     "name": "stdout",
     "output_type": "stream",
     "text": [
      "0\n",
      "0\n",
      "0\n",
      "1\n"
     ]
    }
   ],
   "source": [
    "# 1st try: get all digits\n",
    "    \n",
    "giveMeTel(\"[0-9]\")"
   ]
  },
  {
   "cell_type": "code",
   "execution_count": 9,
   "metadata": {
    "collapsed": false
   },
   "outputs": [
    {
     "name": "stdout",
     "output_type": "stream",
     "text": [
      "02\n",
      "07\n",
      "0800\n",
      "123\n"
     ]
    }
   ],
   "source": [
    "# 2nd try: get all digits, not just one\n",
    "    \n",
    "giveMeTel(\"[0-9]+\")"
   ]
  },
  {
   "cell_type": "code",
   "execution_count": 10,
   "metadata": {
    "collapsed": false
   },
   "outputs": [
    {
     "name": "stdout",
     "output_type": "stream",
     "text": [
      "02\n",
      "07-21180293\n",
      "0800\n",
      "123\n"
     ]
    }
   ],
   "source": [
    "# 3rd try: get all digits, not just one, and dash\n",
    "    \n",
    "giveMeTel(\"[0-9-]+\")"
   ]
  },
  {
   "cell_type": "code",
   "execution_count": 11,
   "metadata": {
    "collapsed": false
   },
   "outputs": [
    {
     "name": "stdout",
     "output_type": "stream",
     "text": [
      "(02)2256-1116\n",
      "07-21180293\n",
      "0800\n",
      "(\n"
     ]
    }
   ],
   "source": [
    "# 4th try: get all digits, not just one, and dash and paranthesis and blanks...\n",
    "    \n",
    "giveMeTel(\"[0-9-()]+\")"
   ]
  },
  {
   "cell_type": "code",
   "execution_count": 12,
   "metadata": {
    "collapsed": false
   },
   "outputs": [
    {
     "name": "stdout",
     "output_type": "stream",
     "text": [
      " \n",
      " \n",
      " \n",
      " (\n"
     ]
    }
   ],
   "source": [
    "# now allow blanks, oops!\n",
    "    \n",
    "giveMeTel(\"[0-9-() ]+\")"
   ]
  },
  {
   "cell_type": "code",
   "execution_count": 13,
   "metadata": {
    "collapsed": false
   },
   "outputs": [
    {
     "name": "stdout",
     "output_type": "stream",
     "text": [
      "(02)\n",
      "07\n",
      "0800\n",
      "123\n"
     ]
    }
   ],
   "source": [
    "# !(@#$&!@#*$!(@&%(!@*...\n",
    "    \n",
    "giveMeTel(\"\\(?[0-9]+\\)?\")"
   ]
  },
  {
   "cell_type": "code",
   "execution_count": 14,
   "metadata": {
    "collapsed": false
   },
   "outputs": [
    {
     "name": "stdout",
     "output_type": "stream",
     "text": [
      "(02)2256-1116\n",
      "07-21180293\n",
      "0800\n",
      "123\n"
     ]
    }
   ],
   "source": [
    "giveMeTel(\"\\(?[0-9]+\\)?[0-9-]+\")"
   ]
  },
  {
   "cell_type": "code",
   "execution_count": 15,
   "metadata": {
    "collapsed": false
   },
   "outputs": [
    {
     "name": "stdout",
     "output_type": "stream",
     "text": [
      "(02)2256-1116\n",
      "07-21180293\n",
      "0800\n",
      "123\n"
     ]
    }
   ],
   "source": [
    "giveMeTel(\"\\(?[0-9]+\\)?[0-9-]+\")"
   ]
  },
  {
   "cell_type": "code",
   "execution_count": 16,
   "metadata": {
    "collapsed": false
   },
   "outputs": [
    {
     "name": "stdout",
     "output_type": "stream",
     "text": [
      "(02)2256-1116\n",
      "07-21180293\n",
      "0800 000 123 \n",
      "123 2945 1412\n"
     ]
    }
   ],
   "source": [
    "giveMeTel(\"\\(?[0-9]+\\)?[0-9- ]+\")"
   ]
  },
  {
   "cell_type": "code",
   "execution_count": 17,
   "metadata": {
    "collapsed": false
   },
   "outputs": [
    {
     "name": "stdout",
     "output_type": "stream",
     "text": [
      "(02)2256-1116\n",
      "07-21180293\n",
      "2945 1412\n"
     ]
    }
   ],
   "source": [
    "giveMeTel(\"\\(?[0-9]{0,2}\\)?-?[0-9]{4}[ -]?[0-9]{4}\")"
   ]
  },
  {
   "cell_type": "code",
   "execution_count": 18,
   "metadata": {
    "collapsed": false
   },
   "outputs": [
    {
     "name": "stdout",
     "output_type": "stream",
     "text": [
      "0800 000 123\n"
     ]
    }
   ],
   "source": [
    "giveMeTel(\"[0-9]{4}[ ]?[0-9]{3}[ ]?[0-9]{3}\")"
   ]
  },
  {
   "cell_type": "code",
   "execution_count": 19,
   "metadata": {
    "collapsed": false
   },
   "outputs": [
    {
     "name": "stdout",
     "output_type": "stream",
     "text": [
      "(02)2256-1116\n",
      "07-21180293\n",
      "0800 000 123\n",
      "2945 1412\n"
     ]
    }
   ],
   "source": [
    "giveMeTel(\"\\(?[0-9]{0,2}\\)?-?[0-9]{4}[ -]?[0-9]{4}|[0-9]{4}[ ]?[0-9]{3}[ ]?[0-9]{3}\")"
   ]
  },
  {
   "cell_type": "code",
   "execution_count": 20,
   "metadata": {
    "collapsed": false
   },
   "outputs": [
    {
     "name": "stdout",
     "output_type": "stream",
     "text": [
      "(02)2256-1116\n",
      "07-21180293\n",
      "0800 000 123 #1234\n",
      "2945 1412\n"
     ]
    }
   ],
   "source": [
    "giveMeTel(\"\\(?[0-9]{0,2}\\)?-?[0-9]{4}[ -]?[0-9]{4}|[0-9]{4}[ ]?[0-9]{3}[ ]?[0-9]{3}[ ]?#?[0-9]+\")"
   ]
  },
  {
   "cell_type": "markdown",
   "metadata": {
    "slideshow": {
     "slide_type": "subslide"
    }
   },
   "source": [
    "### components of re\n",
    "+ characters (string-literals)\n",
    "    + ABCabc123\n",
    "+ meta-characters (operators)\n",
    "    + `. ^ $ * + ? { } [ ] \\ | ( )`\n",
    "+ special sequences (short-cuts)\n",
    "    + `\\d \\D \\s \\S \\w \\W \\b \\B`"
   ]
  },
  {
   "cell_type": "markdown",
   "metadata": {
    "slideshow": {
     "slide_type": "subslide"
    }
   },
   "source": [
    "#### wildcarder: `.`\n",
    "match anything except newline(`\\n`)"
   ]
  },
  {
   "cell_type": "markdown",
   "metadata": {
    "slideshow": {
     "slide_type": "subslide"
    }
   },
   "source": [
    "#### bounders: `^ $`\n",
    "+ `^`: (following) the beginning character\n",
    "    + `^this` matches anything started with \"this\"\n",
    "+ `$`: (preceding) the ending character\n",
    "    + `that$` matches anything ended with \"that\""
   ]
  },
  {
   "cell_type": "markdown",
   "metadata": {
    "slideshow": {
     "slide_type": "subslide"
    }
   },
   "source": [
    "#### repeaters: `* + ?`\n",
    "to specify the occurrence condition of its previous character\n",
    "+ `*`: any occurrence (including zero)\n",
    "+ `+`: at least one occurrence\n",
    "+ `?`: zero or exactly one occurrence"
   ]
  },
  {
   "cell_type": "raw",
   "metadata": {
    "slideshow": {
     "slide_type": "notes"
    }
   },
   "source": [
    "* and + are both greedy: the re engine will try to match as many occurrence as possible."
   ]
  },
  {
   "cell_type": "markdown",
   "metadata": {
    "slideshow": {
     "slide_type": "subslide"
    }
   },
   "source": [
    "#### advanced repeaters: `{m,n}`\n",
    "at least `m` and at most `n` occurrence\n",
    "\n",
    "example:\n",
    "+ `a{1,3}`: character \"a\" must occur at least one and at most three time\n",
    "+ `a{1,}`: character \"a\" must occur at least one time\n",
    "+ `a{,3}`: character \"a\" must occur at most three time"
   ]
  },
  {
   "cell_type": "markdown",
   "metadata": {
    "slideshow": {
     "slide_type": "subslide"
    }
   },
   "source": [
    "#### `[]`: character class\n",
    "+ to specify a set of characters that may occcur\n",
    "+ most meta-char will lose their speacial meaning within the class\n",
    "    + `[0-9$]` matches any of numbers 0 to 9 or the dollar sign($)\n",
    "    + here the bounder meta-char `$` is treated as-is\n",
    "+ special meaning only triggered within the class:\n",
    "    + `-`: ranger, e.g., `[0-9a-zA-Z]`\n",
    "    + `^`: negator, e.g., `[^0-9]`"
   ]
  },
  {
   "cell_type": "markdown",
   "metadata": {
    "slideshow": {
     "slide_type": "subslide"
    }
   },
   "source": [
    "#### or: `|`\n",
    "example:\n",
    "+ `abc|def`: either \"abc\" or \"def\""
   ]
  },
  {
   "cell_type": "markdown",
   "metadata": {
    "slideshow": {
     "slide_type": "subslide"
    }
   },
   "source": [
    "#### grouper: `()`\n",
    "example:\n",
    "+ `(abc)+`: at least one occurrence of \"abc\"\n",
    "+ `abc+`: here the repeater `+` only operates on character \"c\""
   ]
  },
  {
   "cell_type": "markdown",
   "metadata": {
    "slideshow": {
     "slide_type": "subslide"
    }
   },
   "source": [
    "#### special sequences\n",
    "short-cut of specific character classes\n",
    "+ `\\d`: any decimal digit => `[0-9]`\n",
    "+ `\\D`: any non-digit => `[^0-9]`\n",
    "+ `\\s`: any white space => `[ \\t\\n\\r\\f\\v]`\n",
    "+ `\\S`: any non-white space => `[^ \\t\\n\\r\\f\\v]`\n",
    "+ `\\w`: any alphanumeric => `[a-zA-Z0-9_]`\n",
    "+ `\\W`: any non-alphanumeric => `[^a-zA-Z0-9_]`\n",
    "+ `\\b`: "
   ]
  },
  {
   "cell_type": "markdown",
   "metadata": {
    "slideshow": {
     "slide_type": "subslide"
    }
   },
   "source": [
    "#### escaper: `\\`\n",
    "to have its following character **as-is**, i.e., stripping special meaning\n",
    "\n",
    "this is required when you want to match literal meta-char"
   ]
  },
  {
   "cell_type": "markdown",
   "metadata": {
    "slideshow": {
     "slide_type": "slide"
    }
   },
   "source": [
    "# Regex in Python<span style=\"color:blue\"> | Basic</span>\n",
    "## 在Python使用正規表達式"
   ]
  },
  {
   "cell_type": "markdown",
   "metadata": {
    "slideshow": {
     "slide_type": "subslide"
    }
   },
   "source": [
    "### import python re module"
   ]
  },
  {
   "cell_type": "code",
   "execution_count": 21,
   "metadata": {
    "collapsed": true,
    "slideshow": {
     "slide_type": "-"
    }
   },
   "outputs": [],
   "source": [
    "import re"
   ]
  },
  {
   "cell_type": "markdown",
   "metadata": {
    "slideshow": {
     "slide_type": "subslide"
    }
   },
   "source": [
    "### compile a regex"
   ]
  },
  {
   "cell_type": "code",
   "execution_count": 22,
   "metadata": {
    "collapsed": false
   },
   "outputs": [
    {
     "name": "stdout",
     "output_type": "stream",
     "text": [
      "<_sre.SRE_Pattern object at 0x1110d4cb0>\n"
     ]
    },
    {
     "data": {
      "text/plain": [
       "['findall', 'finditer', 'match', 'scanner', 'search', 'split', 'sub', 'subn']"
      ]
     },
     "execution_count": 22,
     "metadata": {},
     "output_type": "execute_result"
    }
   ],
   "source": [
    "p = re.compile(\"test+\")\n",
    "# return a pattern object\n",
    "print p\n",
    "# check methods\n",
    "[me for me in dir(p) if callable(getattr(p, me)) and not \"__\" in me]"
   ]
  },
  {
   "cell_type": "markdown",
   "metadata": {
    "slideshow": {
     "slide_type": "subslide"
    }
   },
   "source": [
    "#### the `match` method\n",
    "to perform pattern matching **from the beginning** of a string"
   ]
  },
  {
   "cell_type": "code",
   "execution_count": 23,
   "metadata": {
    "collapsed": false,
    "slideshow": {
     "slide_type": "-"
    }
   },
   "outputs": [
    {
     "name": "stdout",
     "output_type": "stream",
     "text": [
      "None\n"
     ]
    }
   ],
   "source": [
    "print p.match(\"123\")"
   ]
  },
  {
   "cell_type": "code",
   "execution_count": 24,
   "metadata": {
    "collapsed": false
   },
   "outputs": [
    {
     "name": "stdout",
     "output_type": "stream",
     "text": [
      "None\n"
     ]
    }
   ],
   "source": [
    "print p.match(\"123test\")"
   ]
  },
  {
   "cell_type": "code",
   "execution_count": 25,
   "metadata": {
    "collapsed": false
   },
   "outputs": [
    {
     "name": "stdout",
     "output_type": "stream",
     "text": [
      "None\n"
     ]
    }
   ],
   "source": [
    "print p.match(\"tes\")"
   ]
  },
  {
   "cell_type": "code",
   "execution_count": 26,
   "metadata": {
    "collapsed": false
   },
   "outputs": [
    {
     "name": "stdout",
     "output_type": "stream",
     "text": [
      "<_sre.SRE_Match object at 0x111c522a0>\n"
     ]
    }
   ],
   "source": [
    "print p.match(\"test\")"
   ]
  },
  {
   "cell_type": "code",
   "execution_count": 27,
   "metadata": {
    "collapsed": false
   },
   "outputs": [
    {
     "name": "stdout",
     "output_type": "stream",
     "text": [
      "<_sre.SRE_Match object at 0x111c521d0>\n"
     ]
    }
   ],
   "source": [
    "print p.match(\"testtttt\")"
   ]
  },
  {
   "cell_type": "markdown",
   "metadata": {
    "slideshow": {
     "slide_type": "subslide"
    }
   },
   "source": [
    "#### the `match` object"
   ]
  },
  {
   "cell_type": "code",
   "execution_count": 28,
   "metadata": {
    "collapsed": false,
    "slideshow": {
     "slide_type": "-"
    }
   },
   "outputs": [
    {
     "data": {
      "text/plain": [
       "['end', 'expand', 'group', 'groupdict', 'groups', 'span', 'start']"
      ]
     },
     "execution_count": 28,
     "metadata": {},
     "output_type": "execute_result"
    }
   ],
   "source": [
    "m = p.match(\"testtttt\")\n",
    "[me for me in dir(m) if callable(getattr(m, me)) and not \"__\" in me]"
   ]
  },
  {
   "cell_type": "code",
   "execution_count": 29,
   "metadata": {
    "collapsed": false
   },
   "outputs": [
    {
     "data": {
      "text/plain": [
       "'testtttt'"
      ]
     },
     "execution_count": 29,
     "metadata": {},
     "output_type": "execute_result"
    }
   ],
   "source": [
    "# return the matched string\n",
    "m.group()"
   ]
  },
  {
   "cell_type": "code",
   "execution_count": 30,
   "metadata": {
    "collapsed": false
   },
   "outputs": [
    {
     "data": {
      "text/plain": [
       "'the match starts at pos 0 and ends at pos 8'"
      ]
     },
     "execution_count": 30,
     "metadata": {},
     "output_type": "execute_result"
    }
   ],
   "source": [
    "\"the match starts at pos %s and ends at pos %s\" % (m.start(), m.end())"
   ]
  },
  {
   "cell_type": "code",
   "execution_count": 31,
   "metadata": {
    "collapsed": false
   },
   "outputs": [
    {
     "data": {
      "text/plain": [
       "'the match starts at pos 0 and ends at pos 8'"
      ]
     },
     "execution_count": 31,
     "metadata": {},
     "output_type": "execute_result"
    }
   ],
   "source": [
    "\"the match starts at pos %s and ends at pos %s\" % m.span()"
   ]
  },
  {
   "cell_type": "markdown",
   "metadata": {
    "slideshow": {
     "slide_type": "subslide"
    }
   },
   "source": [
    "#### the `search` method\n",
    "to perform pattern matching **from anywhere** of a string"
   ]
  },
  {
   "cell_type": "code",
   "execution_count": 32,
   "metadata": {
    "collapsed": false
   },
   "outputs": [
    {
     "name": "stdout",
     "output_type": "stream",
     "text": [
      "pattern matched at pos 3 to pos 7\n"
     ]
    }
   ],
   "source": [
    "m = p.search(\"123test456\")\n",
    "if m:\n",
    "    print \"pattern matched at pos %s to pos %s\" % m.span()\n",
    "else:\n",
    "    print \"no match\""
   ]
  },
  {
   "cell_type": "markdown",
   "metadata": {
    "slideshow": {
     "slide_type": "subslide"
    }
   },
   "source": [
    "#### the `findall` and `finditer` method"
   ]
  },
  {
   "cell_type": "code",
   "execution_count": 33,
   "metadata": {
    "collapsed": false
   },
   "outputs": [
    {
     "data": {
      "text/plain": [
       "['2', '4', '8', '8']"
      ]
     },
     "execution_count": 33,
     "metadata": {},
     "output_type": "execute_result"
    }
   ],
   "source": [
    "p = re.compile(\"\\d\")\n",
    "p.findall(\"24 hours a day; 8 in sleep and 8 for works\")"
   ]
  },
  {
   "cell_type": "code",
   "execution_count": 34,
   "metadata": {
    "collapsed": false,
    "scrolled": true
   },
   "outputs": [
    {
     "name": "stdout",
     "output_type": "stream",
     "text": [
      "'2' found at (0, 1)\n",
      "'4' found at (1, 2)\n",
      "'8' found at (16, 17)\n",
      "'8' found at (31, 32)\n"
     ]
    }
   ],
   "source": [
    "for m in p.finditer(\"24 hours a day; 8 in sleep and 8 for works\"):\n",
    "    print \"\\'%s\\' found at %s\" % (m.group(), m.span())"
   ]
  },
  {
   "cell_type": "markdown",
   "metadata": {
    "slideshow": {
     "slide_type": "subslide"
    }
   },
   "source": [
    "### implicit compile\n",
    "methods like `search`, `match`, and `findall` can be called on module-level"
   ]
  },
  {
   "cell_type": "code",
   "execution_count": 35,
   "metadata": {
    "collapsed": false
   },
   "outputs": [
    {
     "name": "stdout",
     "output_type": "stream",
     "text": [
      "['1', '2350']\n"
     ]
    }
   ],
   "source": [
    "m = re.findall(\"\\d+\", \"1 round for Daan Park is 2350m\")\n",
    "print m"
   ]
  },
  {
   "cell_type": "code",
   "execution_count": 36,
   "metadata": {
    "collapsed": false
   },
   "outputs": [
    {
     "name": "stdout",
     "output_type": "stream",
     "text": [
      "1\n"
     ]
    }
   ],
   "source": [
    "m = re.match(\"\\d+\", \"1 round for Daan Park is 2350m\")\n",
    "print m.group()"
   ]
  },
  {
   "cell_type": "code",
   "execution_count": 37,
   "metadata": {
    "collapsed": false
   },
   "outputs": [
    {
     "name": "stdout",
     "output_type": "stream",
     "text": [
      "1\n"
     ]
    }
   ],
   "source": [
    "m = re.search(\"\\d+\", \"1 round for Daan Park is 2350m\")\n",
    "print m.group() # notice that only the first matched is returned"
   ]
  },
  {
   "cell_type": "markdown",
   "metadata": {
    "slideshow": {
     "slide_type": "subslide"
    }
   },
   "source": [
    "### more on `group` and `groups` method\n"
   ]
  },
  {
   "cell_type": "code",
   "execution_count": 38,
   "metadata": {
    "collapsed": false
   },
   "outputs": [
    {
     "data": {
      "text/plain": [
       "'123abc'"
      ]
     },
     "execution_count": 38,
     "metadata": {},
     "output_type": "execute_result"
    }
   ],
   "source": [
    "m = re.match(\"([0-9]+)([a-z]+)\", \"123abc456\")\n",
    "# return the whole matched (sub)string\n",
    "m.group()"
   ]
  },
  {
   "cell_type": "code",
   "execution_count": 39,
   "metadata": {
    "collapsed": false
   },
   "outputs": [
    {
     "data": {
      "text/plain": [
       "('123abc', '123', 'abc')"
      ]
     },
     "execution_count": 39,
     "metadata": {},
     "output_type": "execute_result"
    }
   ],
   "source": [
    "# if grouper is used, they can be retrieved individually\n",
    "m.group(0), m.group(1), m.group(2)"
   ]
  },
  {
   "cell_type": "code",
   "execution_count": 40,
   "metadata": {
    "collapsed": false
   },
   "outputs": [
    {
     "data": {
      "text/plain": [
       "('123', 'abc', '123')"
      ]
     },
     "execution_count": 40,
     "metadata": {},
     "output_type": "execute_result"
    }
   ],
   "source": [
    "# or multiple retrieved\n",
    "m.group(1,2,1)"
   ]
  },
  {
   "cell_type": "code",
   "execution_count": 41,
   "metadata": {
    "collapsed": false
   },
   "outputs": [
    {
     "data": {
      "text/plain": [
       "('123', 'abc')"
      ]
     },
     "execution_count": 41,
     "metadata": {},
     "output_type": "execute_result"
    }
   ],
   "source": [
    "# return each group matched in a tuple (works only if grouper is used)\n",
    "m.groups() "
   ]
  },
  {
   "cell_type": "code",
   "execution_count": 42,
   "metadata": {
    "collapsed": false
   },
   "outputs": [
    {
     "data": {
      "text/plain": [
       "{}"
      ]
     },
     "execution_count": 42,
     "metadata": {},
     "output_type": "execute_result"
    }
   ],
   "source": [
    "# or in a dictionary\n",
    "m.groupdict()"
   ]
  },
  {
   "cell_type": "markdown",
   "metadata": {},
   "source": [
    "(see the <a href=\"#/3\">advanced section</a>)"
   ]
  },
  {
   "cell_type": "markdown",
   "metadata": {
    "slideshow": {
     "slide_type": "subslide"
    }
   },
   "source": [
    "### challenge!\n",
    ">1 round for Daan Park is 2350m\n",
    "\n",
    "=> try to retrieve two numbers present in the above sentence. (1 and 2350)"
   ]
  },
  {
   "cell_type": "code",
   "execution_count": 43,
   "metadata": {
    "collapsed": false
   },
   "outputs": [],
   "source": [
    "test_str = \"1 round for Daan Park is 2350m\""
   ]
  },
  {
   "cell_type": "code",
   "execution_count": 44,
   "metadata": {
    "collapsed": false,
    "slideshow": {
     "slide_type": "subslide"
    }
   },
   "outputs": [
    {
     "data": {
      "text/plain": [
       "('1', '0')"
      ]
     },
     "execution_count": 44,
     "metadata": {},
     "output_type": "execute_result"
    }
   ],
   "source": [
    "m = re.match(\"(\\d+).*(\\d+).*\", test_str)\n",
    "m.groups() # failed to retrieve the second number (what's wrong?)"
   ]
  },
  {
   "cell_type": "code",
   "execution_count": 45,
   "metadata": {
    "collapsed": false
   },
   "outputs": [
    {
     "data": {
      "text/plain": [
       "('1', '2350')"
      ]
     },
     "execution_count": 45,
     "metadata": {},
     "output_type": "execute_result"
    }
   ],
   "source": [
    "m = re.match(\"(\\d+)[^0-9]*(\\d+).*\", test_str)\n",
    "m.groups() # repeater is GREEDY: they try to match as many as possible"
   ]
  },
  {
   "cell_type": "markdown",
   "metadata": {
    "slideshow": {
     "slide_type": "subslide"
    }
   },
   "source": [
    "### challenge!\n",
    "> my code is 12\n",
    "<br>\n",
    "Mr. lucky7's code is 76\n",
    "<br>\n",
    "are you coded no.1?\n",
    "<br>\n",
    "\n",
    "=> retrieve all \"code number\" in this three lines"
   ]
  },
  {
   "cell_type": "code",
   "execution_count": 46,
   "metadata": {
    "collapsed": false
   },
   "outputs": [],
   "source": [
    "test_str = [\"my code is 12\", \n",
    "            \"Mr. lucky7's code is 76\",\n",
    "            \"are you coded no.1?\"]"
   ]
  },
  {
   "cell_type": "code",
   "execution_count": 47,
   "metadata": {
    "collapsed": false,
    "slideshow": {
     "slide_type": "subslide"
    }
   },
   "outputs": [
    {
     "data": {
      "text/plain": [
       "['12', '76', '1']"
      ]
     },
     "execution_count": 47,
     "metadata": {},
     "output_type": "execute_result"
    }
   ],
   "source": [
    "# hard-coded re\n",
    "# useless, and sometimes dangerous!\n",
    "p = re.compile(\"(12|76|1)\")\n",
    "[ p.search(s).group() for s in test_str ]"
   ]
  },
  {
   "cell_type": "code",
   "execution_count": 48,
   "metadata": {
    "collapsed": false,
    "slideshow": {
     "slide_type": "subslide"
    }
   },
   "outputs": [
    {
     "data": {
      "text/plain": [
       "['12', '76', '1']"
      ]
     },
     "execution_count": 48,
     "metadata": {},
     "output_type": "execute_result"
    }
   ],
   "source": [
    "# match the number ended in the sentence, with optionally question mark\n",
    "# still somewhat problem-specific and hence less general\n",
    "# also notice that .findall only returns string matched in grouper, \n",
    "#     try \"(\\d+\\??)\" instead to see the diff\n",
    "p = re.compile(\"(\\d+)\\??$\")\n",
    "[ p.findall(s)[-1] for s in test_str ]"
   ]
  },
  {
   "cell_type": "code",
   "execution_count": 49,
   "metadata": {
    "collapsed": false,
    "slideshow": {
     "slide_type": "subslide"
    }
   },
   "outputs": [
    {
     "data": {
      "text/plain": [
       "['12', '76', '1']"
      ]
     },
     "execution_count": 49,
     "metadata": {},
     "output_type": "execute_result"
    }
   ],
   "source": [
    "# match all numbers and return the last one\n",
    "p = re.compile(\"\\d+\")\n",
    "[ p.findall(s)[-1] for s in test_str ]"
   ]
  },
  {
   "cell_type": "markdown",
   "metadata": {
    "slideshow": {
     "slide_type": "subslide"
    }
   },
   "source": [
    "### challenge!\n",
    "> My name is Kyle Chung, loving buying at PChome.\n",
    "\n",
    "=> retrieve first-char-capitalized words "
   ]
  },
  {
   "cell_type": "code",
   "execution_count": 50,
   "metadata": {
    "collapsed": false
   },
   "outputs": [],
   "source": [
    "test_str = \"My name is Kyle Chung, loving buying at PChome.\""
   ]
  },
  {
   "cell_type": "code",
   "execution_count": 51,
   "metadata": {
    "collapsed": false,
    "slideshow": {
     "slide_type": "subslide"
    }
   },
   "outputs": [
    {
     "data": {
      "text/plain": [
       "['My', 'Kyle', 'Chung']"
      ]
     },
     "execution_count": 51,
     "metadata": {},
     "output_type": "execute_result"
    }
   ],
   "source": [
    "# bounder \"\\b\" is essential here\n",
    "# why double the escaper?\n",
    "m = re.compile(\"\\\\b([A-Z][a-z]+)+\")\n",
    "m.findall(test_str)"
   ]
  },
  {
   "cell_type": "markdown",
   "metadata": {},
   "source": [
    "(see the section <a href=\"#/4\">raw string notation</a> for more info about double escaping) "
   ]
  },
  {
   "cell_type": "markdown",
   "metadata": {
    "slideshow": {
     "slide_type": "subslide"
    }
   },
   "source": [
    "### challenge!\n",
    "> Things are getting HARDER! Now try capturing CamelUpperCased word(s).\n",
    "\n",
    "=> retrieve any camel-cased word."
   ]
  },
  {
   "cell_type": "code",
   "execution_count": 52,
   "metadata": {
    "collapsed": true
   },
   "outputs": [],
   "source": [
    "test_str = \"Things are getting HARDER! Now try capturing CamelUpperCased word(s).\""
   ]
  },
  {
   "cell_type": "code",
   "execution_count": 53,
   "metadata": {
    "collapsed": false,
    "slideshow": {
     "slide_type": "subslide"
    }
   },
   "outputs": [
    {
     "data": {
      "text/plain": [
       "['Things', 'Now', 'Camel']"
      ]
     },
     "execution_count": 53,
     "metadata": {},
     "output_type": "execute_result"
    }
   ],
   "source": [
    "m = re.compile(\"\\\\b[A-Z]+[a-z]+\")\n",
    "m.findall(test_str)"
   ]
  },
  {
   "cell_type": "markdown",
   "metadata": {
    "slideshow": {
     "slide_type": "slide"
    }
   },
   "source": [
    "\n",
    "# Regex in Python<span style=\"color:blue\"> | Advanced</span>\n",
    "## 進階的正規表達式\n",
    "regex extensions: `(?<pattern>)`"
   ]
  },
  {
   "cell_type": "markdown",
   "metadata": {
    "slideshow": {
     "slide_type": "subslide"
    }
   },
   "source": [
    "this section covers four extensions:\n",
    "+ non-capturer: `(?:<pattern>)`\n",
    "+ ahead-looker: `(?=<pattern>)` and `(?!<pattern>)`\n",
    "+ named-grouper: `(?P<gname>)`\n",
    "+ backreferer: `(?p=<gname>)`"
   ]
  },
  {
   "cell_type": "markdown",
   "metadata": {
    "slideshow": {
     "slide_type": "subslide"
    }
   },
   "source": [
    "### non-capturer: `(?:...)`\n",
    "to match without returning matched"
   ]
  },
  {
   "cell_type": "code",
   "execution_count": 54,
   "metadata": {
    "collapsed": false
   },
   "outputs": [
    {
     "name": "stdout",
     "output_type": "stream",
     "text": [
      "string returned by .group: \n",
      "\tfact.1: 1\n",
      "string returned by .groups: \n",
      "\t('1',)\n",
      "('fact.1:',)\n"
     ]
    }
   ],
   "source": [
    "test_str = \"fact.1: 1 round for Daan Park is 2350m\"\n",
    "m = re.search(\"(?:^.*: )(\\d+)\", test_str)\n",
    "print \"string returned by .group: \\n\\t\" + str(m.group())\n",
    "print \"string returned by .groups: \\n\\t\" + str(m.groups())\n",
    "\n",
    "m = re.search(\"(^.*:)\", test_str)\n",
    "print m.groups()\n"
   ]
  },
  {
   "cell_type": "markdown",
   "metadata": {
    "slideshow": {
     "slide_type": "subslide"
    }
   },
   "source": [
    "### back to the challenge!"
   ]
  },
  {
   "cell_type": "code",
   "execution_count": 55,
   "metadata": {
    "collapsed": false
   },
   "outputs": [
    {
     "data": {
      "text/plain": [
       "[('12',), ('76',), ('1',)]"
      ]
     },
     "execution_count": 55,
     "metadata": {},
     "output_type": "execute_result"
    }
   ],
   "source": [
    "test_str = [\"my code is 12\", \n",
    "            \"Mr. lucky7's code is 76\",\n",
    "            \"are you coded no.1?\"]\n",
    "p = re.compile(\"(?:code)[^0-9]*(\\d+)\")\n",
    "[ p.search(s).groups() for s in test_str ]"
   ]
  },
  {
   "cell_type": "markdown",
   "metadata": {
    "slideshow": {
     "slide_type": "subslide"
    }
   },
   "source": [
    "### ahead-looker: `(?=...)` and `(?!...)`\n",
    "only to match when the asserted string is (not) matched first"
   ]
  },
  {
   "cell_type": "markdown",
   "metadata": {},
   "source": []
  },
  {
   "cell_type": "markdown",
   "metadata": {
    "slideshow": {
     "slide_type": "subslide"
    }
   },
   "source": [
    "### named-grouper: `(?P<gname>)`\n",
    "a python-specific extension\n"
   ]
  },
  {
   "cell_type": "markdown",
   "metadata": {},
   "source": [
    "### backreferer: `(?P=gname)`\n",
    "yet anotehr python-specific extension"
   ]
  },
  {
   "cell_type": "markdown",
   "metadata": {
    "slideshow": {
     "slide_type": "subslide"
    }
   },
   "source": [
    "### Raw String Notation"
   ]
  },
  {
   "cell_type": "markdown",
   "metadata": {
    "slideshow": {
     "slide_type": "subslide"
    }
   },
   "source": []
  },
  {
   "cell_type": "markdown",
   "metadata": {
    "slideshow": {
     "slide_type": "slide"
    }
   },
   "source": [
    "# Reference\n",
    "+ [Facebook official Graph API reference](https://developers.facebook.com/docs/graph-api/reference/)\n",
    "+ [Python official re tutorial](https://docs.python.org/2/howto/regex.html)\n",
    "+ [Unix timestamp converter](http://www.epochconverter.com)\n",
    "+ regex visualizer / tester:\n",
    "    + [Debuggex](https://www.debuggex.com)\n",
    "    + [regex101](https://regex101.com/#python)"
   ]
  },
  {
   "cell_type": "markdown",
   "metadata": {
    "slideshow": {
     "slide_type": "slide"
    }
   },
   "source": [
    "# Appendix\n",
    "+ Python function decorator usage"
   ]
  },
  {
   "cell_type": "markdown",
   "metadata": {
    "slideshow": {
     "slide_type": "subslide"
    }
   },
   "source": [
    "## Python function decorator example"
   ]
  },
  {
   "cell_type": "code",
   "execution_count": 1,
   "metadata": {
    "collapsed": false
   },
   "outputs": [
    {
     "name": "stdout",
     "output_type": "stream",
     "text": [
      "1\n",
      "2\n",
      "3\n"
     ]
    }
   ],
   "source": [
    "def printArgs(*args):\n",
    "    for arg in args:\n",
    "        print arg\n",
    "\n",
    "printArgs(1,2,3)"
   ]
  },
  {
   "cell_type": "code",
   "execution_count": 2,
   "metadata": {
    "collapsed": false
   },
   "outputs": [
    {
     "name": "stdout",
     "output_type": "stream",
     "text": [
      "decorated!\n",
      "1\n",
      "2\n",
      "3\n"
     ]
    }
   ],
   "source": [
    "# decorator without argument\n",
    "def decorate(func):\n",
    "    def wrapper(*args, **kwargs):\n",
    "        print \"decorated!\"\n",
    "        return func(*args, **kwargs)\n",
    "    return wrapper\n",
    "\n",
    "@decorate\n",
    "def printArgs(*args):\n",
    "    for arg in args:\n",
    "        print arg\n",
    "\n",
    "printArgs(1,2,3)"
   ]
  },
  {
   "cell_type": "code",
   "execution_count": 4,
   "metadata": {
    "collapsed": false
   },
   "outputs": [
    {
     "name": "stdout",
     "output_type": "stream",
     "text": [
      "decorated by test!\n",
      "1\n",
      "2\n",
      "3\n"
     ]
    }
   ],
   "source": [
    "# decorator with argument(s)\n",
    "def decorateWithArg(dname):\n",
    "    def realWrapper(func):\n",
    "        def wrapper(*args, **kwargs):\n",
    "            print \"decorated by %s!\" % dname\n",
    "            return func(*args, **kwargs)\n",
    "        return wrapper\n",
    "    return realWrapper\n",
    "\n",
    "@decorateWithArg(\"test\")\n",
    "def printArgs(*args):\n",
    "    for arg in args:\n",
    "        print arg\n",
    "\n",
    "printArgs(1,2,3)"
   ]
  }
 ],
 "metadata": {
  "celltoolbar": "Slideshow",
  "kernelspec": {
   "display_name": "Python 2",
   "language": "python",
   "name": "python2"
  },
  "language_info": {
   "codemirror_mode": {
    "name": "ipython",
    "version": 2
   },
   "file_extension": ".py",
   "mimetype": "text/x-python",
   "name": "python",
   "nbconvert_exporter": "python",
   "pygments_lexer": "ipython2",
   "version": "2.7.6"
  }
 },
 "nbformat": 4,
 "nbformat_minor": 0
}
