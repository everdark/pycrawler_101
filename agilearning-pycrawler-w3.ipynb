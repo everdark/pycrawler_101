{
 "cells": [
  {
   "cell_type": "markdown",
   "metadata": {
    "slideshow": {
     "slide_type": "slide"
    }
   },
   "source": [
    "## Facebook Graph API<span style=\"color:blue\"> | Explorer</span>"
   ]
  },
  {
   "cell_type": "markdown",
   "metadata": {
    "slideshow": {
     "slide_type": "subslide"
    }
   },
   "source": [
    "[Facebook Graph API Explorer](https://developers.facebook.com/tools/explorer)"
   ]
  },
  {
   "cell_type": "markdown",
   "metadata": {
    "slideshow": {
     "slide_type": "subslide"
    }
   },
   "source": [
    "### components of the API\n",
    "+ according to official doc:\n",
    "    + **nodes** - basically \"things\" such as a User, a Photo, a Page, a Comment.\n",
    "    + **edges** - the connections between those \"things\", such as a Page's Photos, or a Photo's Comments\n",
    "    + **fields** - info about those \"things\", such as the birthday of a User, or the name of a Page"
   ]
  },
  {
   "cell_type": "markdown",
   "metadata": {
    "slideshow": {
     "slide_type": "subslide"
    }
   },
   "source": [
    "### basic syntax\n",
    "`<node_id>/<edge_name>?fields=f1,f2,...`\n",
    "+ a node can be a person, a photo, a page, ...\n",
    "    + different nodes have their corresponding fields\n",
    "    + any field is also comprised by nodes, e.g., the field photo is comprised by photo nodes\n",
    "+ the `me` node is a special node pointing to the owner of the current token\n",
    "+ example:\n",
    "    + `me/photos?fields=from`"
   ]
  },
  {
   "cell_type": "markdown",
   "metadata": {
    "slideshow": {
     "slide_type": "subslide"
    }
   },
   "source": [
    "### which field?\n",
    "+ use `metadata=1` to extract all possible fields on a node\n",
    "    + `<node_id>?metadata=1`\n",
    "+ alternatively, use the interactive \"Search for a field\" GUI tool to the left panel on the api explorer\n",
    "+ not all fields will be returned in an API call"
   ]
  },
  {
   "cell_type": "markdown",
   "metadata": {
    "slideshow": {
     "slide_type": "subslide"
    }
   },
   "source": [
    "### nested query\n",
    "`<node_id>?fields=f1{subf1,subf2,...},f2,...`\n",
    "\n",
    "or\n",
    "\n",
    "`<node_id>?fields=f1.fields(subf1,subf2,...),f2,...`\n",
    "+ there is no limit on the depth of nesting (according to official doc)"
   ]
  },
  {
   "cell_type": "markdown",
   "metadata": {
    "slideshow": {
     "slide_type": "subslide"
    }
   },
   "source": [
    "### node or edge?\n",
    "+ edge is the population, node is talking about individual\n",
    "+ *all* of my photos => edge (no id); *this* photo of mine => node (with id)\n",
    "+ fields are defined on nodes, not edges\n",
    "+ any difference?\n",
    "    + `me?fields=photos{from}`\n",
    "    + `me/photos?fields=from`"
   ]
  },
  {
   "cell_type": "markdown",
   "metadata": {
    "slideshow": {
     "slide_type": "subslide"
    }
   },
   "source": [
    "### modifier: limit\n",
    "+ optionally, use method `.limit(n)` or `?limit=n` to restrict the number of objects returned\n",
    "    + on a field:\n",
    "        + `me?fields=photos.limit(10)`\n",
    "    + on an edge:\n",
    "        + `me/photos?limit=10`"
   ]
  },
  {
   "cell_type": "markdown",
   "metadata": {
    "slideshow": {
     "slide_type": "subslide"
    }
   },
   "source": [
    "### modifier: summary\n",
    "+ fields (or edges) with multiple entities usually have a summary containing their counts\n",
    "    + on a field:\n",
    "        + `<photo_id>?fields=likes.summary(true)`\n",
    "    + on an edge:\n",
    "        + `<photo_id>/likes?summary=true`"
   ]
  },
  {
   "cell_type": "markdown",
   "metadata": {
    "slideshow": {
     "slide_type": "subslide"
    }
   },
   "source": [
    "### modifier chaining\n",
    "+ on a field:\n",
    "    + `<photo_id>?files=likes.limit(1).summary(true)`\n",
    "+ on an edge:\n",
    "    + `<photo_id>/likes?limit=1&summary=true`"
   ]
  },
  {
   "cell_type": "markdown",
   "metadata": {
    "slideshow": {
     "slide_type": "subslide"
    }
   },
   "source": [
    "### paging\n",
    "obviously, not all results are returned in one shut (by design)"
   ]
  },
  {
   "cell_type": "markdown",
   "metadata": {
    "slideshow": {
     "slide_type": "subslide"
    }
   },
   "source": [
    "### scenario: who likes my posts?\n",
    "+ start from the `me` node\n",
    "+ what fields a post can have?\n",
    "    + use `?metadata=1` on any one of your post (try `me/posts` first)\n",
    "    + \"likes\" are indeed edges (connections) instead of fields\n",
    "    + still, we can use it in the field query (just as `me/photos` to `me?fields=photos`)\n",
    "+ setup a time range by using the `since` modifier => [timestamp converter](http://www.epochconverter.com)\n",
    "+ get total count using the `summary` modifier\n",
    "+ finally, something like this:\n",
    "    + `me/posts?fields=likes.fields(name).summary(true)&since=1420070400&limit=100`"
   ]
  },
  {
   "cell_type": "markdown",
   "metadata": {
    "slideshow": {
     "slide_type": "slide"
    }
   },
   "source": [
    "## Facebook Graph API<span style=\"color:blue\"> | Programmatic</span>"
   ]
  },
  {
   "cell_type": "markdown",
   "metadata": {
    "slideshow": {
     "slide_type": "subslide"
    }
   },
   "source": [
    "### go beyond the API explorer...\n",
    "+ an API query is nothing more than a HTTP request\n",
    "    + with valid access_token, of course\n",
    "    + and the returned data are always json\n",
    "+ use \"Get Code\" button in the explorer and look for the \"cURL\" tab"
   ]
  },
  {
   "cell_type": "markdown",
   "metadata": {
    "slideshow": {
     "slide_type": "-"
    }
   },
   "source": [
    "```\n",
    "curl -i -X GET \\\n",
    " \"https://graph.facebook.com/v2.4/me?fields=context&access_token=CAACEdEose0cBAL34H6NiMZB3ZCnPaZBnShQoSY9GZCh81kDLbQZArxKGEPY981H7KfBUjG99jThga2OxQ7owu03IZCgoEcjMDmVSyeZAzos3JZBvWEzbRbfX0DZAl0Au2ybbbZCNZBOsZCYGmjKqCLyTHftwrnOerU07Pismb3QBxYommKEo7oGsWTIIREpbKu4VlHMJY7Q7ZBY00aAZDZD\"\n",
    "```"
   ]
  },
  {
   "cell_type": "markdown",
   "metadata": {
    "slideshow": {
     "slide_type": "subslide"
    }
   },
   "source": [
    "### get all metadata of a node"
   ]
  },
  {
   "cell_type": "code",
   "execution_count": 175,
   "metadata": {
    "collapsed": false
   },
   "outputs": [],
   "source": [
    "import requests\n",
    "api_addr = \"https://graph.facebook.com/v2.4/me\"\n",
    "token = \"CAACEdEose0cBAPGFtYmvw8Ij1PotlLE9X5OnFAuyQYHYiYZBr93fj9qcUkOwgDB2sWiMZCSUckIrfZCM1ddQoRT6mZAdH6RQCU7rWjj1JlVjlZCdPS5KevvcdjAZCJZBHQTcQTTSPaWqOjcvZAcYtWBK6YmbF8xFTtOoOTCqW7nupUy0SDhwJ5ILxW1HTWVD9TqeW4Szfh3AOgZDZD\"\n",
    "qs = {\"metadata\": 1, \n",
    "      \"access_token\": token}\n",
    "r = requests.get(api_addr, params=qs)\n",
    "meta = r.json()"
   ]
  },
  {
   "cell_type": "code",
   "execution_count": 176,
   "metadata": {
    "collapsed": false
   },
   "outputs": [
    {
     "name": "stdout",
     "output_type": "stream",
     "text": [
      "[u'id', u'name', u'metadata']\n"
     ]
    }
   ],
   "source": [
    "print meta.keys()"
   ]
  },
  {
   "cell_type": "code",
   "execution_count": 177,
   "metadata": {
    "collapsed": false
   },
   "outputs": [
    {
     "name": "stdout",
     "output_type": "stream",
     "text": [
      "[u'connections', u'fields', u'type']\n"
     ]
    }
   ],
   "source": [
    "print meta[\"metadata\"].keys()"
   ]
  },
  {
   "cell_type": "code",
   "execution_count": 178,
   "metadata": {
    "collapsed": false
   },
   "outputs": [
    {
     "name": "stdout",
     "output_type": "stream",
     "text": [
      "id\n",
      "about\n",
      "age_range\n",
      "bio\n",
      "birthday\n",
      "context\n",
      "currency\n",
      "devices\n",
      "education\n",
      "email\n",
      "favorite_athletes\n",
      "favorite_teams\n",
      "first_name\n",
      "gender\n",
      "hometown\n",
      "inspirational_people\n",
      "install_type\n",
      "installed\n",
      "interested_in\n",
      "is_shared_login\n",
      "is_verified\n",
      "languages\n",
      "last_name\n",
      "link\n",
      "location\n",
      "locale\n",
      "meeting_for\n",
      "middle_name\n",
      "name\n",
      "name_format\n",
      "payment_pricepoints\n",
      "test_group\n",
      "political\n",
      "relationship_status\n",
      "religion\n",
      "security_settings\n",
      "significant_other\n",
      "sports\n",
      "quotes\n",
      "third_party_id\n",
      "timezone\n",
      "token_for_business\n",
      "updated_time\n",
      "shared_login_upgrade_required_by\n",
      "verified\n",
      "video_upload_limits\n",
      "viewer_can_send_gift\n",
      "website\n",
      "work\n",
      "public_key\n",
      "cover\n"
     ]
    }
   ],
   "source": [
    "metafields = [ l[\"name\"] for l in meta[\"metadata\"][\"fields\"] ]\n",
    "for s in metafields:\n",
    "    print s"
   ]
  },
  {
   "cell_type": "markdown",
   "metadata": {
    "slideshow": {
     "slide_type": "subslide"
    }
   },
   "source": [
    "### traverse paginated json"
   ]
  },
  {
   "cell_type": "code",
   "execution_count": 179,
   "metadata": {
    "collapsed": false
   },
   "outputs": [],
   "source": [
    "import requests\n",
    "def getAllLikes(token, node):\n",
    "    result = []\n",
    "    api_addr = \"https://graph.facebook.com/v2.4/%s/likes\" % node\n",
    "    qs = {\"fields\": \"name\", \n",
    "          \"access_token\": token}\n",
    "    r = requests.get(api_addr, params=qs)\n",
    "    res = r.json()\n",
    "    if not len(res[\"data\"]):\n",
    "        return result\n",
    "    else:\n",
    "        result += res[\"data\"]\n",
    "        while \"next\" in res[\"paging\"]:\n",
    "            cursor_next = res[\"paging\"][\"cursors\"][\"after\"]\n",
    "            qs[\"after\"] = cursor_next\n",
    "            r = requests.get(api_addr, params=qs)\n",
    "            res = r.json()\n",
    "            result += res[\"data\"]\n",
    "        return result\n",
    "    \n",
    "result = getAllLikes(token=\"CAACEdEose0cBAPGFtYmvw8Ij1PotlLE9X5OnFAuyQYHYiYZBr93fj9qcUkOwgDB2sWiMZCSUckIrfZCM1ddQoRT6mZAdH6RQCU7rWjj1JlVjlZCdPS5KevvcdjAZCJZBHQTcQTTSPaWqOjcvZAcYtWBK6YmbF8xFTtOoOTCqW7nupUy0SDhwJ5ILxW1HTWVD9TqeW4Szfh3AOgZDZD\", \n",
    "                     node=\"100000862115668_932029203502475\")"
   ]
  },
  {
   "cell_type": "code",
   "execution_count": 180,
   "metadata": {
    "collapsed": false
   },
   "outputs": [
    {
     "data": {
      "text/plain": [
       "[{u'id': u'315371435293768', u'name': u'Tindy Cheng'},\n",
       " {u'id': u'969673423047100', u'name': u'ChunKuei Chu'},\n",
       " {u'id': u'756609997705112', u'name': u'\\u6797\\u744b\\u744b'},\n",
       " {u'id': u'852448504770317', u'name': u'Mark Yang'},\n",
       " {u'id': u'1487000218', u'name': u'\\u8607\\u4e2d\\u624d'},\n",
       " {u'id': u'1161704643846945', u'name': u'\\u9673\\u667a\\u6cd3'},\n",
       " {u'id': u'10204030571792411', u'name': u'Mansun Kuo'},\n",
       " {u'id': u'10152783776360960', u'name': u'Jim Pai'},\n",
       " {u'id': u'748835111857876', u'name': u'Yi LinWei'},\n",
       " {u'id': u'788499557828349', u'name': u'Wush Wu'},\n",
       " {u'id': u'10200724712359727', u'name': u'Cedar Su'},\n",
       " {u'id': u'10202285354957426', u'name': u'\\u67ef\\u9d3b\\u5100'},\n",
       " {u'id': u'878903608788910', u'name': u'\\u9b4f\\u5ef7\\u65ed'},\n",
       " {u'id': u'1182843781729426', u'name': u'\\u6d2a \\u5fd7\\u6587'},\n",
       " {u'id': u'912921898725737', u'name': u'\\u77f3\\u5c0f\\u77f3'},\n",
       " {u'id': u'10153331968758409', u'name': u'Yencheng Chen'},\n",
       " {u'id': u'10152159007283224', u'name': u'\\u6797\\u76df\\u5091'},\n",
       " {u'id': u'830239116990181', u'name': u'Han-Wei Wendy Lin'},\n",
       " {u'id': u'10203196401577752', u'name': u'Teresa Tc'},\n",
       " {u'id': u'10201864190525667', u'name': u'Yao-Tsung Yang'},\n",
       " {u'id': u'961707153842993', u'name': u'Meng-Yeh Chuang'},\n",
       " {u'id': u'877391482280299', u'name': u'Leon Zhang'},\n",
       " {u'id': u'541969934240', u'name': u'Shao-Chuan Yang'},\n",
       " {u'id': u'609958632422912', u'name': u'Ikki Oda'},\n",
       " {u'id': u'10152385217924728', u'name': u'Yuan-Ping Wu'},\n",
       " {u'id': u'888165404532501', u'name': u'\\u5f35\\u80b2\\u8c6a'}]"
      ]
     },
     "execution_count": 180,
     "metadata": {},
     "output_type": "execute_result"
    }
   ],
   "source": [
    "result"
   ]
  },
  {
   "cell_type": "code",
   "execution_count": 181,
   "metadata": {
    "collapsed": false
   },
   "outputs": [
    {
     "data": {
      "text/plain": [
       "[]"
      ]
     },
     "execution_count": 181,
     "metadata": {},
     "output_type": "execute_result"
    }
   ],
   "source": [
    "# check for zero-liked post\n",
    "check = getAllLikes(token=\"CAACEdEose0cBAPGFtYmvw8Ij1PotlLE9X5OnFAuyQYHYiYZBr93fj9qcUkOwgDB2sWiMZCSUckIrfZCM1ddQoRT6mZAdH6RQCU7rWjj1JlVjlZCdPS5KevvcdjAZCJZBHQTcQTTSPaWqOjcvZAcYtWBK6YmbF8xFTtOoOTCqW7nupUy0SDhwJ5ILxW1HTWVD9TqeW4Szfh3AOgZDZD\", \n",
    "                    node=\"100000862115668_930036487035080\")\n",
    "check"
   ]
  },
  {
   "cell_type": "markdown",
   "metadata": {
    "slideshow": {
     "slide_type": "subslide"
    }
   },
   "source": [
    "### scenario:"
   ]
  },
  {
   "cell_type": "markdown",
   "metadata": {},
   "source": [
    "TBC"
   ]
  },
  {
   "cell_type": "markdown",
   "metadata": {
    "slideshow": {
     "slide_type": "subslide"
    }
   },
   "source": [
    "### programmatically get the token?"
   ]
  },
  {
   "cell_type": "markdown",
   "metadata": {
    "slideshow": {
     "slide_type": "slide"
    }
   },
   "source": [
    "## Regular Expression"
   ]
  },
  {
   "cell_type": "markdown",
   "metadata": {
    "slideshow": {
     "slide_type": "subslide"
    }
   },
   "source": [
    "### what is re?\n",
    "from wikipedia:\n",
    "> a regular expression (abbreviated regex or regexp and sometimes called a rational expression) is a sequence of characters that define a search pattern, mainly for use in pattern matching with strings, or string matching, i.e. \"find and replace\"-like operations."
   ]
  },
  {
   "cell_type": "markdown",
   "metadata": {
    "slideshow": {
     "slide_type": "subslide"
    }
   },
   "source": [
    "### why re?\n",
    "imagine there is a dataset looks like this...\n",
    "> kyle chung; (02)2256-1116; New Taipei City \n",
    "<br>\n",
    "Mr. Funghi,Earth Anywhere, 07-21180293\n",
    "<br>\n",
    "free tel: 0800 000 123 #1234\n",
    "<br>\n",
    "2945 1412  street no.123  Dr.A(not Dr.B)\n",
    "\n",
    "YOUR BOSS: \"Give me all the telphone numbers only.\" "
   ]
  },
  {
   "cell_type": "code",
   "execution_count": 182,
   "metadata": {
    "collapsed": false,
    "slideshow": {
     "slide_type": "subslide"
    }
   },
   "outputs": [],
   "source": [
    "import re\n",
    "\n",
    "test_str = [\"kyle chung; (02)2256-1116; New Taipei City\",\n",
    "            \"Mr. Funghi,Earth Anywhere, 07-21180293\",\n",
    "            \"free tel: 0800 000 123 #1234\",\n",
    "            \"Dr.A (not Dr.B) street no.123 2945 1412\"]\n",
    "\n",
    "def giveMeTel(pattern, test_str=test_str):\n",
    "    p = re.compile(pattern)\n",
    "    for s in test_str:\n",
    "        m = p.search(s)\n",
    "        if m:\n",
    "            print m.group()\n"
   ]
  },
  {
   "cell_type": "code",
   "execution_count": 183,
   "metadata": {
    "collapsed": false
   },
   "outputs": [
    {
     "name": "stdout",
     "output_type": "stream",
     "text": [
      "0\n",
      "0\n",
      "0\n",
      "1\n"
     ]
    }
   ],
   "source": [
    "# 1st try: get all digits\n",
    "    \n",
    "giveMeTel(\"[0-9]\")"
   ]
  },
  {
   "cell_type": "code",
   "execution_count": 184,
   "metadata": {
    "collapsed": false
   },
   "outputs": [
    {
     "name": "stdout",
     "output_type": "stream",
     "text": [
      "02\n",
      "07\n",
      "0800\n",
      "123\n"
     ]
    }
   ],
   "source": [
    "# 2nd try: get all digits, not just one\n",
    "    \n",
    "giveMeTel(\"[0-9]+\")"
   ]
  },
  {
   "cell_type": "code",
   "execution_count": 185,
   "metadata": {
    "collapsed": false
   },
   "outputs": [
    {
     "name": "stdout",
     "output_type": "stream",
     "text": [
      "02\n",
      "07-21180293\n",
      "0800\n",
      "123\n"
     ]
    }
   ],
   "source": [
    "# 3rd try: get all digits, not just one, and dash\n",
    "    \n",
    "giveMeTel(\"[0-9-]+\")"
   ]
  },
  {
   "cell_type": "code",
   "execution_count": 186,
   "metadata": {
    "collapsed": false
   },
   "outputs": [
    {
     "name": "stdout",
     "output_type": "stream",
     "text": [
      "(02)2256-1116\n",
      "07-21180293\n",
      "0800\n",
      "(\n"
     ]
    }
   ],
   "source": [
    "# 4th try: get all digits, not just one, and dash and paranthesis and blanks...\n",
    "    \n",
    "giveMeTel(\"[0-9-()]+\")"
   ]
  },
  {
   "cell_type": "code",
   "execution_count": 187,
   "metadata": {
    "collapsed": false
   },
   "outputs": [
    {
     "name": "stdout",
     "output_type": "stream",
     "text": [
      " \n",
      " \n",
      " \n",
      " (\n"
     ]
    }
   ],
   "source": [
    "# now allow blanks, oops!\n",
    "    \n",
    "giveMeTel(\"[0-9-() ]+\")"
   ]
  },
  {
   "cell_type": "code",
   "execution_count": 188,
   "metadata": {
    "collapsed": false
   },
   "outputs": [
    {
     "name": "stdout",
     "output_type": "stream",
     "text": [
      "(02)\n",
      "07\n",
      "0800\n",
      "123\n"
     ]
    }
   ],
   "source": [
    "# !(@#$&!@#*$!(@&%(!@*...\n",
    "    \n",
    "giveMeTel(\"\\(?[0-9]+\\)?\")"
   ]
  },
  {
   "cell_type": "code",
   "execution_count": 189,
   "metadata": {
    "collapsed": false
   },
   "outputs": [
    {
     "name": "stdout",
     "output_type": "stream",
     "text": [
      "(02)2256-1116\n",
      "07-21180293\n",
      "0800\n",
      "123\n"
     ]
    }
   ],
   "source": [
    "giveMeTel(\"\\(?[0-9]+\\)?[0-9-]+\")"
   ]
  },
  {
   "cell_type": "code",
   "execution_count": 190,
   "metadata": {
    "collapsed": false
   },
   "outputs": [
    {
     "name": "stdout",
     "output_type": "stream",
     "text": [
      "(02)2256-1116\n",
      "07-21180293\n",
      "0800\n",
      "123\n"
     ]
    }
   ],
   "source": [
    "giveMeTel(\"\\(?[0-9]+\\)?[0-9-]+\")"
   ]
  },
  {
   "cell_type": "code",
   "execution_count": 191,
   "metadata": {
    "collapsed": false
   },
   "outputs": [
    {
     "name": "stdout",
     "output_type": "stream",
     "text": [
      "(02)2256-1116\n",
      "07-21180293\n",
      "0800 000 123 \n",
      "123 2945 1412\n"
     ]
    }
   ],
   "source": [
    "giveMeTel(\"\\(?[0-9]+\\)?[0-9- ]+\")"
   ]
  },
  {
   "cell_type": "code",
   "execution_count": 192,
   "metadata": {
    "collapsed": false
   },
   "outputs": [
    {
     "name": "stdout",
     "output_type": "stream",
     "text": [
      "(02)2256-1116\n",
      "07-21180293\n",
      "2945 1412\n"
     ]
    }
   ],
   "source": [
    "giveMeTel(\"\\(?[0-9]{0,2}\\)?-?[0-9]{4}[ -]?[0-9]{4}\")"
   ]
  },
  {
   "cell_type": "code",
   "execution_count": 193,
   "metadata": {
    "collapsed": false
   },
   "outputs": [
    {
     "name": "stdout",
     "output_type": "stream",
     "text": [
      "0800 000 123\n"
     ]
    }
   ],
   "source": [
    "giveMeTel(\"[0-9]{4}[ ]?[0-9]{3}[ ]?[0-9]{3}\")"
   ]
  },
  {
   "cell_type": "code",
   "execution_count": 194,
   "metadata": {
    "collapsed": false
   },
   "outputs": [
    {
     "name": "stdout",
     "output_type": "stream",
     "text": [
      "(02)2256-1116\n",
      "07-21180293\n",
      "0800 000 123\n",
      "2945 1412\n"
     ]
    }
   ],
   "source": [
    "giveMeTel(\"\\(?[0-9]{0,2}\\)?-?[0-9]{4}[ -]?[0-9]{4}|[0-9]{4}[ ]?[0-9]{3}[ ]?[0-9]{3}\")"
   ]
  },
  {
   "cell_type": "code",
   "execution_count": 195,
   "metadata": {
    "collapsed": false
   },
   "outputs": [
    {
     "name": "stdout",
     "output_type": "stream",
     "text": [
      "(02)2256-1116\n",
      "07-21180293\n",
      "0800 000 123 #1234\n",
      "2945 1412\n"
     ]
    }
   ],
   "source": [
    "giveMeTel(\"\\(?[0-9]{0,2}\\)?-?[0-9]{4}[ -]?[0-9]{4}|[0-9]{4}[ ]?[0-9]{3}[ ]?[0-9]{3}[ ]?#?[0-9]+\")"
   ]
  },
  {
   "cell_type": "markdown",
   "metadata": {
    "slideshow": {
     "slide_type": "subslide"
    }
   },
   "source": [
    "### components of re\n",
    "+ characters (string-literals)\n",
    "    + ABCabc123\n",
    "+ meta-characters (operators)\n",
    "    + `. ^ $ * + ? { } [ ] \\ | ( )`\n",
    "+ special sequences (short-cuts)\n",
    "    + `\\d \\D \\s \\S \\w \\W \\b \\B`"
   ]
  },
  {
   "cell_type": "markdown",
   "metadata": {
    "slideshow": {
     "slide_type": "subslide"
    }
   },
   "source": [
    "#### wildcarder: `.`\n",
    "match anything except newline(`\\n`)"
   ]
  },
  {
   "cell_type": "markdown",
   "metadata": {
    "slideshow": {
     "slide_type": "subslide"
    }
   },
   "source": [
    "#### bounders: `^ $`\n",
    "+ `^`: (following) the beginning character\n",
    "    + `^this` matches anything started with \"this\"\n",
    "+ `$`: (preceding) the ending character\n",
    "    + `that$` matches anything ended with \"that\""
   ]
  },
  {
   "cell_type": "markdown",
   "metadata": {
    "slideshow": {
     "slide_type": "subslide"
    }
   },
   "source": [
    "#### repeaters: `* + ?`\n",
    "to specify the occurrence condition of its previous character\n",
    "+ `*`: any occurrence (including zero)\n",
    "+ `+`: at least one occurrence\n",
    "+ `?`: zero or exactly one occurrence"
   ]
  },
  {
   "cell_type": "raw",
   "metadata": {
    "slideshow": {
     "slide_type": "notes"
    }
   },
   "source": [
    "* and + are both greedy: the re engine will try to match as many occurrence as possible."
   ]
  },
  {
   "cell_type": "markdown",
   "metadata": {
    "slideshow": {
     "slide_type": "subslide"
    }
   },
   "source": [
    "#### advanced repeaters: `{m,n}`\n",
    "at least `m` and at most `n` occurrence\n",
    "\n",
    "example:\n",
    "+ `a{1,3}`: character \"a\" must occur at least one and at most three time\n",
    "+ `a{1,}`: character \"a\" must occur at least one time\n",
    "+ `a{,3}`: character \"a\" must occur at most three time"
   ]
  },
  {
   "cell_type": "markdown",
   "metadata": {
    "slideshow": {
     "slide_type": "subslide"
    }
   },
   "source": [
    "#### `[]`: character class\n",
    "+ to specify a set of characters that may occcur\n",
    "+ most meta-char will lose their speacial meaning within the class\n",
    "    + `[0-9$]` matches any of numbers 0 to 9 or the dollar sign($)\n",
    "    + here the bounder meta-char `$` is treated as-is\n",
    "+ special meaning only triggered within the class:\n",
    "    + `-`: ranger, e.g., `[0-9a-zA-Z]`\n",
    "    + `^`: negator, e.g., `[^0-9]`"
   ]
  },
  {
   "cell_type": "markdown",
   "metadata": {
    "slideshow": {
     "slide_type": "subslide"
    }
   },
   "source": [
    "#### or: `|`\n",
    "example:\n",
    "+ `abc|def`: either \"abc\" or \"def\""
   ]
  },
  {
   "cell_type": "markdown",
   "metadata": {
    "slideshow": {
     "slide_type": "subslide"
    }
   },
   "source": [
    "#### grouper: `()`\n",
    "example:\n",
    "+ `(abc)+`: at least one occurrence of \"abc\"\n",
    "+ `abc+`: here the repeater `+` only operates on character \"c\""
   ]
  },
  {
   "cell_type": "markdown",
   "metadata": {
    "slideshow": {
     "slide_type": "subslide"
    }
   },
   "source": [
    "#### special sequences\n",
    "short-cut of specific character classes\n",
    "+ `\\d`: any decimal digit => `[0-9]`\n",
    "+ `\\D`: any non-digit => `[^0-9]`\n",
    "+ `\\s`: any white space => `[ \\t\\n\\r\\f\\v]`\n",
    "+ `\\S`: any non-white space => `[^ \\t\\n\\r\\f\\v]`\n",
    "+ `\\w`: any alphanumeric => `[a-zA-Z0-9_]`\n",
    "+ `\\W`: any non-alphanumeric => `[^a-zA-Z0-9_]`\n",
    "+ `\\b`: "
   ]
  },
  {
   "cell_type": "markdown",
   "metadata": {
    "slideshow": {
     "slide_type": "subslide"
    }
   },
   "source": [
    "#### escaper: `\\`\n",
    "to have its following character **as-is**, i.e., stripping special meaning\n",
    "\n",
    "this is required when you want to match literal meta-char"
   ]
  },
  {
   "cell_type": "markdown",
   "metadata": {
    "slideshow": {
     "slide_type": "slide"
    }
   },
   "source": [
    "## Regex in Python<span style=\"color:blue\"> | Basic</span>"
   ]
  },
  {
   "cell_type": "markdown",
   "metadata": {
    "slideshow": {
     "slide_type": "subslide"
    }
   },
   "source": [
    "### import python re module"
   ]
  },
  {
   "cell_type": "code",
   "execution_count": 196,
   "metadata": {
    "collapsed": true,
    "slideshow": {
     "slide_type": "-"
    }
   },
   "outputs": [],
   "source": [
    "import re"
   ]
  },
  {
   "cell_type": "markdown",
   "metadata": {
    "slideshow": {
     "slide_type": "subslide"
    }
   },
   "source": [
    "### compile a regex"
   ]
  },
  {
   "cell_type": "code",
   "execution_count": 197,
   "metadata": {
    "collapsed": false
   },
   "outputs": [
    {
     "name": "stdout",
     "output_type": "stream",
     "text": [
      "<_sre.SRE_Pattern object at 0x110bb7670>\n"
     ]
    },
    {
     "data": {
      "text/plain": [
       "['findall', 'finditer', 'match', 'scanner', 'search', 'split', 'sub', 'subn']"
      ]
     },
     "execution_count": 197,
     "metadata": {},
     "output_type": "execute_result"
    }
   ],
   "source": [
    "p = re.compile(\"test+\")\n",
    "# return a pattern object\n",
    "print p\n",
    "# check methods\n",
    "[me for me in dir(p) if callable(getattr(p, me)) and not \"__\" in me]"
   ]
  },
  {
   "cell_type": "markdown",
   "metadata": {
    "slideshow": {
     "slide_type": "subslide"
    }
   },
   "source": [
    "#### the `match` method\n",
    "to perform pattern matching **from the beginning** of a string"
   ]
  },
  {
   "cell_type": "code",
   "execution_count": 198,
   "metadata": {
    "collapsed": false,
    "slideshow": {
     "slide_type": "-"
    }
   },
   "outputs": [
    {
     "name": "stdout",
     "output_type": "stream",
     "text": [
      "None\n"
     ]
    }
   ],
   "source": [
    "print p.match(\"123\")"
   ]
  },
  {
   "cell_type": "code",
   "execution_count": 199,
   "metadata": {
    "collapsed": false
   },
   "outputs": [
    {
     "name": "stdout",
     "output_type": "stream",
     "text": [
      "None\n"
     ]
    }
   ],
   "source": [
    "print p.match(\"123test\")"
   ]
  },
  {
   "cell_type": "code",
   "execution_count": 200,
   "metadata": {
    "collapsed": false
   },
   "outputs": [
    {
     "name": "stdout",
     "output_type": "stream",
     "text": [
      "None\n"
     ]
    }
   ],
   "source": [
    "print p.match(\"tes\")"
   ]
  },
  {
   "cell_type": "code",
   "execution_count": 201,
   "metadata": {
    "collapsed": false
   },
   "outputs": [
    {
     "name": "stdout",
     "output_type": "stream",
     "text": [
      "<_sre.SRE_Match object at 0x111656370>\n"
     ]
    }
   ],
   "source": [
    "print p.match(\"test\")"
   ]
  },
  {
   "cell_type": "code",
   "execution_count": 202,
   "metadata": {
    "collapsed": false
   },
   "outputs": [
    {
     "name": "stdout",
     "output_type": "stream",
     "text": [
      "<_sre.SRE_Match object at 0x1116563d8>\n"
     ]
    }
   ],
   "source": [
    "print p.match(\"testtttt\")"
   ]
  },
  {
   "cell_type": "markdown",
   "metadata": {
    "slideshow": {
     "slide_type": "subslide"
    }
   },
   "source": [
    "#### the `match` object"
   ]
  },
  {
   "cell_type": "code",
   "execution_count": 203,
   "metadata": {
    "collapsed": false,
    "slideshow": {
     "slide_type": "-"
    }
   },
   "outputs": [
    {
     "data": {
      "text/plain": [
       "['end', 'expand', 'group', 'groupdict', 'groups', 'span', 'start']"
      ]
     },
     "execution_count": 203,
     "metadata": {},
     "output_type": "execute_result"
    }
   ],
   "source": [
    "m = p.match(\"testtttt\")\n",
    "[me for me in dir(m) if callable(getattr(m, me)) and not \"__\" in me]"
   ]
  },
  {
   "cell_type": "code",
   "execution_count": 204,
   "metadata": {
    "collapsed": false
   },
   "outputs": [
    {
     "data": {
      "text/plain": [
       "'testtttt'"
      ]
     },
     "execution_count": 204,
     "metadata": {},
     "output_type": "execute_result"
    }
   ],
   "source": [
    "# return the matched string\n",
    "m.group()"
   ]
  },
  {
   "cell_type": "code",
   "execution_count": 205,
   "metadata": {
    "collapsed": false
   },
   "outputs": [
    {
     "data": {
      "text/plain": [
       "'the match starts at pos 0 and ends at pos 8'"
      ]
     },
     "execution_count": 205,
     "metadata": {},
     "output_type": "execute_result"
    }
   ],
   "source": [
    "\"the match starts at pos %s and ends at pos %s\" % (m.start(), m.end())"
   ]
  },
  {
   "cell_type": "code",
   "execution_count": 206,
   "metadata": {
    "collapsed": false
   },
   "outputs": [
    {
     "data": {
      "text/plain": [
       "'the match starts at pos 0 and ends at pos 8'"
      ]
     },
     "execution_count": 206,
     "metadata": {},
     "output_type": "execute_result"
    }
   ],
   "source": [
    "\"the match starts at pos %s and ends at pos %s\" % m.span()"
   ]
  },
  {
   "cell_type": "markdown",
   "metadata": {
    "slideshow": {
     "slide_type": "subslide"
    }
   },
   "source": [
    "#### the `search` method\n",
    "to perform pattern matching **from anywhere** of a string"
   ]
  },
  {
   "cell_type": "code",
   "execution_count": 207,
   "metadata": {
    "collapsed": false
   },
   "outputs": [
    {
     "name": "stdout",
     "output_type": "stream",
     "text": [
      "pattern matched at pos 3 to pos 7\n"
     ]
    }
   ],
   "source": [
    "m = p.search(\"123test456\")\n",
    "if m:\n",
    "    print \"pattern matched at pos %s to pos %s\" % m.span()\n",
    "else:\n",
    "    print \"no match\""
   ]
  },
  {
   "cell_type": "markdown",
   "metadata": {
    "slideshow": {
     "slide_type": "subslide"
    }
   },
   "source": [
    "#### the `findall` and `finditer` method"
   ]
  },
  {
   "cell_type": "code",
   "execution_count": 208,
   "metadata": {
    "collapsed": false
   },
   "outputs": [
    {
     "data": {
      "text/plain": [
       "['2', '4', '8', '8']"
      ]
     },
     "execution_count": 208,
     "metadata": {},
     "output_type": "execute_result"
    }
   ],
   "source": [
    "p = re.compile(\"\\d\")\n",
    "p.findall(\"24 hours a day; 8 in sleep and 8 for works\")"
   ]
  },
  {
   "cell_type": "code",
   "execution_count": 209,
   "metadata": {
    "collapsed": false,
    "scrolled": true
   },
   "outputs": [
    {
     "name": "stdout",
     "output_type": "stream",
     "text": [
      "'2' found at (0, 1)\n",
      "'4' found at (1, 2)\n",
      "'8' found at (16, 17)\n",
      "'8' found at (31, 32)\n"
     ]
    }
   ],
   "source": [
    "for m in p.finditer(\"24 hours a day; 8 in sleep and 8 for works\"):\n",
    "    print \"\\'%s\\' found at %s\" % (m.group(), m.span())"
   ]
  },
  {
   "cell_type": "markdown",
   "metadata": {
    "slideshow": {
     "slide_type": "subslide"
    }
   },
   "source": [
    "### implicit compile\n",
    "methods like `search`, `match`, and `findall` can be called on module-level"
   ]
  },
  {
   "cell_type": "code",
   "execution_count": 210,
   "metadata": {
    "collapsed": false
   },
   "outputs": [
    {
     "name": "stdout",
     "output_type": "stream",
     "text": [
      "['1', '2350']\n"
     ]
    }
   ],
   "source": [
    "m = re.findall(\"\\d+\", \"1 round for Daan Park is 2350m\")\n",
    "print m"
   ]
  },
  {
   "cell_type": "code",
   "execution_count": 211,
   "metadata": {
    "collapsed": false
   },
   "outputs": [
    {
     "name": "stdout",
     "output_type": "stream",
     "text": [
      "1\n"
     ]
    }
   ],
   "source": [
    "m = re.match(\"\\d+\", \"1 round for Daan Park is 2350m\")\n",
    "print m.group()"
   ]
  },
  {
   "cell_type": "code",
   "execution_count": 212,
   "metadata": {
    "collapsed": false
   },
   "outputs": [
    {
     "name": "stdout",
     "output_type": "stream",
     "text": [
      "1\n"
     ]
    }
   ],
   "source": [
    "m = re.search(\"\\d+\", \"1 round for Daan Park is 2350m\")\n",
    "print m.group() # notice that only the first matched is returned"
   ]
  },
  {
   "cell_type": "markdown",
   "metadata": {
    "slideshow": {
     "slide_type": "subslide"
    }
   },
   "source": [
    "### more on `group` and `groups` method\n"
   ]
  },
  {
   "cell_type": "code",
   "execution_count": 213,
   "metadata": {
    "collapsed": false
   },
   "outputs": [
    {
     "data": {
      "text/plain": [
       "'123abc'"
      ]
     },
     "execution_count": 213,
     "metadata": {},
     "output_type": "execute_result"
    }
   ],
   "source": [
    "m = re.match(\"([0-9]+)([a-z]+)\", \"123abc456\")\n",
    "# return the whole matched (sub)string\n",
    "m.group()"
   ]
  },
  {
   "cell_type": "code",
   "execution_count": 214,
   "metadata": {
    "collapsed": false
   },
   "outputs": [
    {
     "data": {
      "text/plain": [
       "('123abc', '123', 'abc')"
      ]
     },
     "execution_count": 214,
     "metadata": {},
     "output_type": "execute_result"
    }
   ],
   "source": [
    "# if grouper is used, they can be retrieved individually\n",
    "m.group(0), m.group(1), m.group(2)"
   ]
  },
  {
   "cell_type": "code",
   "execution_count": 215,
   "metadata": {
    "collapsed": false
   },
   "outputs": [
    {
     "data": {
      "text/plain": [
       "('123', 'abc', '123')"
      ]
     },
     "execution_count": 215,
     "metadata": {},
     "output_type": "execute_result"
    }
   ],
   "source": [
    "# or multiple retrieved\n",
    "m.group(1,2,1)"
   ]
  },
  {
   "cell_type": "code",
   "execution_count": 216,
   "metadata": {
    "collapsed": false
   },
   "outputs": [
    {
     "data": {
      "text/plain": [
       "('123', 'abc')"
      ]
     },
     "execution_count": 216,
     "metadata": {},
     "output_type": "execute_result"
    }
   ],
   "source": [
    "# return each group matched in a tuple (works only if grouper is used)\n",
    "m.groups() "
   ]
  },
  {
   "cell_type": "code",
   "execution_count": 217,
   "metadata": {
    "collapsed": false
   },
   "outputs": [
    {
     "data": {
      "text/plain": [
       "{}"
      ]
     },
     "execution_count": 217,
     "metadata": {},
     "output_type": "execute_result"
    }
   ],
   "source": [
    "# or in a dictionary\n",
    "m.groupdict()"
   ]
  },
  {
   "cell_type": "markdown",
   "metadata": {},
   "source": [
    "(see the <a href=\"#/3\">advanced section</a>)"
   ]
  },
  {
   "cell_type": "markdown",
   "metadata": {
    "slideshow": {
     "slide_type": "subslide"
    }
   },
   "source": [
    "### challenge!\n",
    ">1 round for Daan Park is 2350m\n",
    "\n",
    "=> try to retrieve two numbers present in the above sentence. (1 and 2350)"
   ]
  },
  {
   "cell_type": "code",
   "execution_count": 218,
   "metadata": {
    "collapsed": false
   },
   "outputs": [],
   "source": [
    "test_str = \"1 round for Daan Park is 2350m\""
   ]
  },
  {
   "cell_type": "code",
   "execution_count": 219,
   "metadata": {
    "collapsed": false,
    "slideshow": {
     "slide_type": "subslide"
    }
   },
   "outputs": [
    {
     "data": {
      "text/plain": [
       "('1', '0')"
      ]
     },
     "execution_count": 219,
     "metadata": {},
     "output_type": "execute_result"
    }
   ],
   "source": [
    "m = re.match(\"(\\d+).*(\\d+).*\", test_str)\n",
    "m.groups() # failed to retrieve the second number (what's wrong?)"
   ]
  },
  {
   "cell_type": "code",
   "execution_count": 220,
   "metadata": {
    "collapsed": false
   },
   "outputs": [
    {
     "data": {
      "text/plain": [
       "('1', '2350')"
      ]
     },
     "execution_count": 220,
     "metadata": {},
     "output_type": "execute_result"
    }
   ],
   "source": [
    "m = re.match(\"(\\d+)[^0-9]*(\\d+).*\", test_str)\n",
    "m.groups() # repeater is GREEDY: they try to match as many as possible"
   ]
  },
  {
   "cell_type": "markdown",
   "metadata": {
    "slideshow": {
     "slide_type": "subslide"
    }
   },
   "source": [
    "### challenge!\n",
    "> my code is 12\n",
    "<br>\n",
    "Mr. lucky7's code is 76\n",
    "<br>\n",
    "are you coded no.1?\n",
    "<br>\n",
    "\n",
    "=> retrieve all \"code number\" in this three lines"
   ]
  },
  {
   "cell_type": "code",
   "execution_count": 221,
   "metadata": {
    "collapsed": false
   },
   "outputs": [],
   "source": [
    "test_str = [\"my code is 12\", \n",
    "            \"Mr. lucky7's code is 76\",\n",
    "            \"are you coded no.1?\"]"
   ]
  },
  {
   "cell_type": "code",
   "execution_count": 222,
   "metadata": {
    "collapsed": false,
    "slideshow": {
     "slide_type": "subslide"
    }
   },
   "outputs": [
    {
     "data": {
      "text/plain": [
       "['12', '76', '1']"
      ]
     },
     "execution_count": 222,
     "metadata": {},
     "output_type": "execute_result"
    }
   ],
   "source": [
    "# hard-coded re\n",
    "# useless, and sometimes dangerous!\n",
    "p = re.compile(\"(12|76|1)\")\n",
    "[ p.search(s).group() for s in test_str ]"
   ]
  },
  {
   "cell_type": "code",
   "execution_count": 223,
   "metadata": {
    "collapsed": false,
    "slideshow": {
     "slide_type": "subslide"
    }
   },
   "outputs": [
    {
     "data": {
      "text/plain": [
       "['12', '76', '1']"
      ]
     },
     "execution_count": 223,
     "metadata": {},
     "output_type": "execute_result"
    }
   ],
   "source": [
    "# match the number ended in the sentence, with optionally question mark\n",
    "# still somewhat problem-specific and hence less general\n",
    "# also notice that .findall only returns string matched in grouper, \n",
    "#     try \"(\\d+\\??)\" instead to see the diff\n",
    "p = re.compile(\"(\\d+)\\??$\")\n",
    "[ p.findall(s)[-1] for s in test_str ]"
   ]
  },
  {
   "cell_type": "code",
   "execution_count": 224,
   "metadata": {
    "collapsed": false,
    "slideshow": {
     "slide_type": "subslide"
    }
   },
   "outputs": [
    {
     "data": {
      "text/plain": [
       "['12', '76', '1']"
      ]
     },
     "execution_count": 224,
     "metadata": {},
     "output_type": "execute_result"
    }
   ],
   "source": [
    "# match all numbers and return the last one\n",
    "p = re.compile(\"\\d+\")\n",
    "[ p.findall(s)[-1] for s in test_str ]"
   ]
  },
  {
   "cell_type": "markdown",
   "metadata": {
    "slideshow": {
     "slide_type": "subslide"
    }
   },
   "source": [
    "### challenge!\n",
    "> My name is Kyle Chung, loving buying at PChome.\n",
    "\n",
    "=> retrieve first-char-capitalized words "
   ]
  },
  {
   "cell_type": "code",
   "execution_count": 225,
   "metadata": {
    "collapsed": false
   },
   "outputs": [],
   "source": [
    "test_str = \"My name is Kyle Chung, loving buying at PChome.\""
   ]
  },
  {
   "cell_type": "code",
   "execution_count": 226,
   "metadata": {
    "collapsed": false,
    "slideshow": {
     "slide_type": "subslide"
    }
   },
   "outputs": [
    {
     "data": {
      "text/plain": [
       "['My', 'Kyle', 'Chung']"
      ]
     },
     "execution_count": 226,
     "metadata": {},
     "output_type": "execute_result"
    }
   ],
   "source": [
    "# bounder \"\\b\" is essential here\n",
    "# why double the escaper?\n",
    "m = re.compile(\"\\\\b([A-Z][a-z]+)+\")\n",
    "m.findall(test_str)"
   ]
  },
  {
   "cell_type": "markdown",
   "metadata": {},
   "source": [
    "(see the section <a href=\"#/4\">raw string notation</a> for more info about double escaping) "
   ]
  },
  {
   "cell_type": "markdown",
   "metadata": {
    "slideshow": {
     "slide_type": "subslide"
    }
   },
   "source": [
    "### challenge!\n",
    "> Things are getting HARDER! Now try capturing CamelUpperCased word(s).\n",
    "\n",
    "=> retrieve any camel-cased word."
   ]
  },
  {
   "cell_type": "code",
   "execution_count": 227,
   "metadata": {
    "collapsed": true
   },
   "outputs": [],
   "source": [
    "test_str = \"Things are getting HARDER! Now try capturing CamelUpperCased word(s).\""
   ]
  },
  {
   "cell_type": "code",
   "execution_count": 228,
   "metadata": {
    "collapsed": false,
    "slideshow": {
     "slide_type": "subslide"
    }
   },
   "outputs": [
    {
     "data": {
      "text/plain": [
       "['Things', 'Now', 'Camel']"
      ]
     },
     "execution_count": 228,
     "metadata": {},
     "output_type": "execute_result"
    }
   ],
   "source": [
    "m = re.compile(\"\\\\b[A-Z]+[a-z]+\")\n",
    "m.findall(test_str)"
   ]
  },
  {
   "cell_type": "markdown",
   "metadata": {
    "slideshow": {
     "slide_type": "slide"
    }
   },
   "source": [
    "\n",
    "## Regex in Python<span style=\"color:blue\"> | Advanced</span>\n",
    "regex extensions: `(?<pattern>)`"
   ]
  },
  {
   "cell_type": "markdown",
   "metadata": {
    "slideshow": {
     "slide_type": "subslide"
    }
   },
   "source": [
    "this section covers four extensions:\n",
    "+ non-capturer: `(?:<pattern>)`\n",
    "+ ahead-looker: `(?=<pattern>)` and `(?!<pattern>)`\n",
    "+ named-grouper: `(?P<gname>)`\n",
    "+ backreferer: `(?p=<gname>)`"
   ]
  },
  {
   "cell_type": "markdown",
   "metadata": {
    "slideshow": {
     "slide_type": "subslide"
    }
   },
   "source": [
    "### non-capturer: `(?:...)`\n",
    "to match without returning matched"
   ]
  },
  {
   "cell_type": "code",
   "execution_count": 229,
   "metadata": {
    "collapsed": false
   },
   "outputs": [
    {
     "name": "stdout",
     "output_type": "stream",
     "text": [
      "string returned by .group: \n",
      "\tfact.1: 1\n",
      "string returned by .groups: \n",
      "\t('1',)\n",
      "('fact.1:',)\n"
     ]
    }
   ],
   "source": [
    "test_str = \"fact.1: 1 round for Daan Park is 2350m\"\n",
    "m = re.search(\"(?:^.*: )(\\d+)\", test_str)\n",
    "print \"string returned by .group: \\n\\t\" + str(m.group())\n",
    "print \"string returned by .groups: \\n\\t\" + str(m.groups())\n",
    "\n",
    "m = re.search(\"(^.*:)\", test_str)\n",
    "print m.groups()\n"
   ]
  },
  {
   "cell_type": "markdown",
   "metadata": {
    "slideshow": {
     "slide_type": "subslide"
    }
   },
   "source": [
    "### back to the challenge!"
   ]
  },
  {
   "cell_type": "code",
   "execution_count": 230,
   "metadata": {
    "collapsed": false
   },
   "outputs": [
    {
     "data": {
      "text/plain": [
       "[('12',), ('76',), ('1',)]"
      ]
     },
     "execution_count": 230,
     "metadata": {},
     "output_type": "execute_result"
    }
   ],
   "source": [
    "test_str = [\"my code is 12\", \n",
    "            \"Mr. lucky7's code is 76\",\n",
    "            \"are you coded no.1?\"]\n",
    "p = re.compile(\"(?:code)[^0-9]*(\\d+)\")\n",
    "[ p.search(s).groups() for s in test_str ]"
   ]
  },
  {
   "cell_type": "markdown",
   "metadata": {
    "slideshow": {
     "slide_type": "subslide"
    }
   },
   "source": [
    "### ahead-looker: `(?=...)` and `(?!...)`\n",
    "only to match when the asserted string is (not) matched first"
   ]
  },
  {
   "cell_type": "markdown",
   "metadata": {},
   "source": []
  },
  {
   "cell_type": "markdown",
   "metadata": {
    "slideshow": {
     "slide_type": "subslide"
    }
   },
   "source": [
    "### named-grouper: `(?P<gname>)`\n",
    "a python-specific extension\n"
   ]
  },
  {
   "cell_type": "markdown",
   "metadata": {},
   "source": [
    "### backreferer: `(?P=gname)`\n",
    "yet anotehr python-specific extension"
   ]
  },
  {
   "cell_type": "markdown",
   "metadata": {
    "slideshow": {
     "slide_type": "subslide"
    }
   },
   "source": [
    "### Raw String Notation"
   ]
  },
  {
   "cell_type": "markdown",
   "metadata": {
    "slideshow": {
     "slide_type": "subslide"
    }
   },
   "source": []
  },
  {
   "cell_type": "markdown",
   "metadata": {
    "slideshow": {
     "slide_type": "slide"
    }
   },
   "source": [
    "## Reference\n",
    "+ [Facebook official Graph API reference](https://developers.facebook.com/docs/graph-api/reference/)\n",
    "+ [Python official re tutorial](https://docs.python.org/2/howto/regex.html)\n",
    "+ regex visualizer / tester:\n",
    "    + [Debuggex](https://www.debuggex.com)\n",
    "    + [regex101](https://regex101.com/#python)"
   ]
  }
 ],
 "metadata": {
  "celltoolbar": "Slideshow",
  "kernelspec": {
   "display_name": "Python 2",
   "language": "python",
   "name": "python2"
  },
  "language_info": {
   "codemirror_mode": {
    "name": "ipython",
    "version": 2
   },
   "file_extension": ".py",
   "mimetype": "text/x-python",
   "name": "python",
   "nbconvert_exporter": "python",
   "pygments_lexer": "ipython2",
   "version": "2.7.9"
  }
 },
 "nbformat": 4,
 "nbformat_minor": 0
}
