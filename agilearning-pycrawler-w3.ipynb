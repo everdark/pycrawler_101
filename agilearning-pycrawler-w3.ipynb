{
 "cells": [
  {
   "cell_type": "markdown",
   "metadata": {
    "slideshow": {
     "slide_type": "slide"
    }
   },
   "source": [
    "## Facebook Graph API"
   ]
  },
  {
   "cell_type": "markdown",
   "metadata": {
    "slideshow": {
     "slide_type": "slide"
    }
   },
   "source": [
    "## Regular Expression"
   ]
  },
  {
   "cell_type": "markdown",
   "metadata": {
    "slideshow": {
     "slide_type": "subslide"
    }
   },
   "source": [
    "### what is re?\n",
    "From wikipedia:\n",
    "> a regular expression (abbreviated regex or regexp and sometimes called a rational expression) is a sequence of characters that define a search pattern, mainly for use in pattern matching with strings, or string matching, i.e. \"find and replace\"-like operations."
   ]
  },
  {
   "cell_type": "markdown",
   "metadata": {
    "slideshow": {
     "slide_type": "subslide"
    }
   },
   "source": [
    "### a first example"
   ]
  },
  {
   "cell_type": "code",
   "execution_count": null,
   "metadata": {
    "collapsed": true
   },
   "outputs": [],
   "source": []
  },
  {
   "cell_type": "markdown",
   "metadata": {},
   "source": [
    "### components of re\n",
    "+ characters (string-literals)\n",
    "    + ABCabc123\n",
    "+ meta-characters (operators)\n",
    "    + `. ^ $ * + ? { } [ ] \\ | ( )`\n",
    "+ special sequences (short-cuts)\n",
    "    + `\\d \\D \\s \\S \\w \\W`"
   ]
  },
  {
   "cell_type": "markdown",
   "metadata": {
    "slideshow": {
     "slide_type": "subslide"
    }
   },
   "source": [
    "#### `.`: anything except newline(`\\n`)"
   ]
  },
  {
   "cell_type": "markdown",
   "metadata": {
    "slideshow": {
     "slide_type": "subslide"
    }
   },
   "source": [
    "#### bounders: `^ $`\n",
    "+ `^`: (following) the beginning character\n",
    "+ `$`: (preceding) the ending character"
   ]
  },
  {
   "cell_type": "markdown",
   "metadata": {
    "slideshow": {
     "slide_type": "subslide"
    }
   },
   "source": [
    "#### repeaters: `* + ?`\n",
    "to specify the occurrence condition of its previous character\n",
    "+ `*`: any occurrence (including zero)\n",
    "+ `+`: at least one occurrence\n",
    "+ `?`: zero or exactly one occurrence"
   ]
  },
  {
   "cell_type": "raw",
   "metadata": {
    "slideshow": {
     "slide_type": "notes"
    }
   },
   "source": [
    "* and + are both greedy: the re engine will try to match as many occurrence as possible."
   ]
  },
  {
   "cell_type": "markdown",
   "metadata": {
    "slideshow": {
     "slide_type": "subslide"
    }
   },
   "source": [
    "#### advanced repeaters: `{m,n}`\n",
    "at least `m` and at most `n` occurrence\n",
    "\n",
    "example:\n",
    "+ `a{1,3}`: character \"a\" must occur at least one and at most three time\n",
    "+ `a{1,}`: character \"a\" must occur at least one time\n",
    "+ `a{,3}`: character \"a\" must occur at most three time"
   ]
  },
  {
   "cell_type": "markdown",
   "metadata": {
    "slideshow": {
     "slide_type": "subslide"
    }
   },
   "source": [
    "#### `[]`: character class\n",
    "+ to specify a set of characters that may occcur\n",
    "+ most meta-char will lose their speacial meaning within the class\n",
    "+ special meaning only triggered within the class:\n",
    "    + `-`: ranger, e.g., `[0-9a-zA-Z]`\n",
    "    + `^`: negator, e.g., `[^0-9]`"
   ]
  },
  {
   "cell_type": "markdown",
   "metadata": {
    "slideshow": {
     "slide_type": "subslide"
    }
   },
   "source": [
    "#### escaper: `\\`\n",
    "to have its following character **as-is**, i.e., stripping special meaning"
   ]
  },
  {
   "cell_type": "markdown",
   "metadata": {
    "slideshow": {
     "slide_type": "subslide"
    }
   },
   "source": [
    "#### `|`: or"
   ]
  },
  {
   "cell_type": "markdown",
   "metadata": {
    "slideshow": {
     "slide_type": "subslide"
    }
   },
   "source": [
    "#### grouper: `()`"
   ]
  },
  {
   "cell_type": "markdown",
   "metadata": {
    "slideshow": {
     "slide_type": "subslide"
    }
   },
   "source": [
    "#### special sequences\n",
    "short-cut of specific character classes\n",
    "+ `\\d`: any decimal digit => `[0-9]`\n",
    "+ `\\D`: any non-digit => `[^0-9]`\n",
    "+ `\\s`: any white space => `[ \\t\\n\\r\\f\\v]`\n",
    "+ `\\S`: any non-white space => `[^ \\t\\n\\r\\f\\v]`\n",
    "+ `\\w`: any alphanumeric => `[a-zA-Z0-9_]`\n",
    "+ `\\W`: any non-alphanumeric => `[^a-zA-Z0-9_]`"
   ]
  },
  {
   "cell_type": "markdown",
   "metadata": {
    "slideshow": {
     "slide_type": "slide"
    }
   },
   "source": [
    "## Regex in Python: Basic"
   ]
  },
  {
   "cell_type": "markdown",
   "metadata": {
    "slideshow": {
     "slide_type": "subslide"
    }
   },
   "source": [
    "### import python re module"
   ]
  },
  {
   "cell_type": "code",
   "execution_count": 9,
   "metadata": {
    "collapsed": true,
    "slideshow": {
     "slide_type": "-"
    }
   },
   "outputs": [],
   "source": [
    "import re"
   ]
  },
  {
   "cell_type": "markdown",
   "metadata": {
    "slideshow": {
     "slide_type": "subslide"
    }
   },
   "source": [
    "### compile a regex"
   ]
  },
  {
   "cell_type": "code",
   "execution_count": 77,
   "metadata": {
    "collapsed": false
   },
   "outputs": [
    {
     "name": "stdout",
     "output_type": "stream",
     "text": [
      "<_sre.SRE_Pattern object at 0x10fc8e1c0>\n"
     ]
    },
    {
     "data": {
      "text/plain": [
       "['findall', 'finditer', 'match', 'scanner', 'search', 'split', 'sub', 'subn']"
      ]
     },
     "execution_count": 77,
     "metadata": {},
     "output_type": "execute_result"
    }
   ],
   "source": [
    "p = re.compile(\"test+\")\n",
    "# return a pattern object\n",
    "print p\n",
    "# check methods\n",
    "[me for me in dir(p) if callable(getattr(p, me)) and not \"__\" in me]"
   ]
  },
  {
   "cell_type": "markdown",
   "metadata": {
    "slideshow": {
     "slide_type": "subslide"
    }
   },
   "source": [
    "#### the `match` method\n",
    "to perform pattern matching **from the beginning** of a string"
   ]
  },
  {
   "cell_type": "code",
   "execution_count": 61,
   "metadata": {
    "collapsed": false,
    "slideshow": {
     "slide_type": "-"
    }
   },
   "outputs": [
    {
     "name": "stdout",
     "output_type": "stream",
     "text": [
      "None\n"
     ]
    }
   ],
   "source": [
    "print p.match(\"123\")"
   ]
  },
  {
   "cell_type": "code",
   "execution_count": 65,
   "metadata": {
    "collapsed": false
   },
   "outputs": [
    {
     "name": "stdout",
     "output_type": "stream",
     "text": [
      "None\n"
     ]
    }
   ],
   "source": [
    "print p.match(\"123test\")"
   ]
  },
  {
   "cell_type": "code",
   "execution_count": 66,
   "metadata": {
    "collapsed": false
   },
   "outputs": [
    {
     "name": "stdout",
     "output_type": "stream",
     "text": [
      "None\n"
     ]
    }
   ],
   "source": [
    "print p.match(\"tes\")"
   ]
  },
  {
   "cell_type": "code",
   "execution_count": 63,
   "metadata": {
    "collapsed": false
   },
   "outputs": [
    {
     "name": "stdout",
     "output_type": "stream",
     "text": [
      "<_sre.SRE_Match object at 0x10fd04648>\n"
     ]
    }
   ],
   "source": [
    "print p.match(\"test\")"
   ]
  },
  {
   "cell_type": "code",
   "execution_count": 102,
   "metadata": {
    "collapsed": false
   },
   "outputs": [
    {
     "name": "stdout",
     "output_type": "stream",
     "text": [
      "<_sre.SRE_Match object at 0x10fd09f38>\n"
     ]
    }
   ],
   "source": [
    "print p.match(\"testtttt\")"
   ]
  },
  {
   "cell_type": "markdown",
   "metadata": {
    "slideshow": {
     "slide_type": "subslide"
    }
   },
   "source": [
    "#### the `match` object"
   ]
  },
  {
   "cell_type": "code",
   "execution_count": 116,
   "metadata": {
    "collapsed": false,
    "slideshow": {
     "slide_type": "-"
    }
   },
   "outputs": [
    {
     "data": {
      "text/plain": [
       "['end', 'expand', 'group', 'groupdict', 'groups', 'span', 'start']"
      ]
     },
     "execution_count": 116,
     "metadata": {},
     "output_type": "execute_result"
    }
   ],
   "source": [
    "m = p.match(\"testtttt\")\n",
    "[me for me in dir(m) if callable(getattr(m, me)) and not \"__\" in me]"
   ]
  },
  {
   "cell_type": "code",
   "execution_count": 110,
   "metadata": {
    "collapsed": false
   },
   "outputs": [
    {
     "data": {
      "text/plain": [
       "'testtttt'"
      ]
     },
     "execution_count": 110,
     "metadata": {},
     "output_type": "execute_result"
    }
   ],
   "source": [
    "# return the matched string\n",
    "m.group()"
   ]
  },
  {
   "cell_type": "code",
   "execution_count": 96,
   "metadata": {
    "collapsed": false
   },
   "outputs": [
    {
     "data": {
      "text/plain": [
       "'the match starts at pos 0 and ends at pos 8'"
      ]
     },
     "execution_count": 96,
     "metadata": {},
     "output_type": "execute_result"
    }
   ],
   "source": [
    "\"the match starts at pos %s and ends at pos %s\" % (m.start(), m.end())"
   ]
  },
  {
   "cell_type": "code",
   "execution_count": 103,
   "metadata": {
    "collapsed": false
   },
   "outputs": [
    {
     "data": {
      "text/plain": [
       "'the match starts at pos 0 and ends at pos 8'"
      ]
     },
     "execution_count": 103,
     "metadata": {},
     "output_type": "execute_result"
    }
   ],
   "source": [
    "\"the match starts at pos %s and ends at pos %s\" % m.span()"
   ]
  },
  {
   "cell_type": "markdown",
   "metadata": {
    "slideshow": {
     "slide_type": "subslide"
    }
   },
   "source": [
    "#### the `search` method\n",
    "to perform pattern matching **from anywhere** of a string"
   ]
  },
  {
   "cell_type": "code",
   "execution_count": 129,
   "metadata": {
    "collapsed": false
   },
   "outputs": [
    {
     "name": "stdout",
     "output_type": "stream",
     "text": [
      "pattern matched at pos 3 to pos 7\n"
     ]
    }
   ],
   "source": [
    "m = p.search(\"123test456\")\n",
    "if m:\n",
    "    print \"pattern matched at pos %s to pos %s\" % m.span()\n",
    "else:\n",
    "    print \"no match\""
   ]
  },
  {
   "cell_type": "markdown",
   "metadata": {
    "slideshow": {
     "slide_type": "subslide"
    }
   },
   "source": [
    "#### the `findall` and `finditer` method"
   ]
  },
  {
   "cell_type": "code",
   "execution_count": 135,
   "metadata": {
    "collapsed": false
   },
   "outputs": [
    {
     "data": {
      "text/plain": [
       "['2', '4', '8', '8']"
      ]
     },
     "execution_count": 135,
     "metadata": {},
     "output_type": "execute_result"
    }
   ],
   "source": [
    "p = re.compile(\"\\d\")\n",
    "p.findall(\"24 hours a day; 8 in sleep and 8 for works\")"
   ]
  },
  {
   "cell_type": "code",
   "execution_count": 143,
   "metadata": {
    "collapsed": false,
    "scrolled": true
   },
   "outputs": [
    {
     "name": "stdout",
     "output_type": "stream",
     "text": [
      "'2' found at (0, 1)\n",
      "'4' found at (1, 2)\n",
      "'8' found at (16, 17)\n",
      "'8' found at (31, 32)\n"
     ]
    }
   ],
   "source": [
    "for m in p.finditer(\"24 hours a day; 8 in sleep and 8 for works\"):\n",
    "    print \"\\'%s\\' found at %s\" % (m.group(), m.span())"
   ]
  },
  {
   "cell_type": "markdown",
   "metadata": {
    "slideshow": {
     "slide_type": "subslide"
    }
   },
   "source": [
    "### implicit compile\n",
    "methods like `search`, `match`, and `findall` can be called on module-level"
   ]
  },
  {
   "cell_type": "code",
   "execution_count": 159,
   "metadata": {
    "collapsed": false
   },
   "outputs": [
    {
     "name": "stdout",
     "output_type": "stream",
     "text": [
      "['1', '2350']\n"
     ]
    }
   ],
   "source": [
    "m = re.findall(\"\\d+\", \"1 round for Daan Park is 2350m\")\n",
    "print m"
   ]
  },
  {
   "cell_type": "code",
   "execution_count": 161,
   "metadata": {
    "collapsed": false
   },
   "outputs": [
    {
     "name": "stdout",
     "output_type": "stream",
     "text": [
      "1\n"
     ]
    }
   ],
   "source": [
    "m = re.match(\"\\d+\", \"1 round for Daan Park is 2350m\")\n",
    "print m.group() # notice that only the first matched will be return"
   ]
  },
  {
   "cell_type": "markdown",
   "metadata": {
    "slideshow": {
     "slide_type": "slide"
    }
   },
   "source": [
    "## Regex in Python: Advanced"
   ]
  },
  {
   "cell_type": "markdown",
   "metadata": {
    "slideshow": {
     "slide_type": "slide"
    }
   },
   "source": [
    "## Raw String Notation"
   ]
  },
  {
   "cell_type": "markdown",
   "metadata": {
    "slideshow": {
     "slide_type": "subslide"
    }
   },
   "source": []
  },
  {
   "cell_type": "markdown",
   "metadata": {
    "slideshow": {
     "slide_type": "slide"
    }
   },
   "source": [
    "## Reference\n",
    "+ [Python official re tutorial](https://docs.python.org/2/howto/regex.html)\n",
    "+ regex visualizer / tester:\n",
    "    + [Debuggex](https://www.debuggex.com)\n",
    "    + [regex101](https://regex101.com/#python)"
   ]
  }
 ],
 "metadata": {
  "celltoolbar": "Slideshow",
  "kernelspec": {
   "display_name": "Python 2",
   "language": "python",
   "name": "python2"
  },
  "language_info": {
   "codemirror_mode": {
    "name": "ipython",
    "version": 2
   },
   "file_extension": ".py",
   "mimetype": "text/x-python",
   "name": "python",
   "nbconvert_exporter": "python",
   "pygments_lexer": "ipython2",
   "version": "2.7.9"
  }
 },
 "nbformat": 4,
 "nbformat_minor": 0
}
